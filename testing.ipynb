{
 "cells": [
  {
   "cell_type": "code",
   "execution_count": 158,
   "metadata": {},
   "outputs": [],
   "source": [
    "using PyPlot\n",
    "using LinearAlgebra, Random\n",
    "using ProgressMeter\n",
    "using Statistics"
   ]
  },
  {
   "cell_type": "code",
   "execution_count": 159,
   "metadata": {},
   "outputs": [
    {
     "data": {
      "text/plain": [
       "50"
      ]
     },
     "metadata": {},
     "output_type": "display_data"
    }
   ],
   "source": [
    "Random.seed!(1)\n",
    "k = 4\n",
    "n = 4\n",
    "m = 50"
   ]
  },
  {
   "cell_type": "code",
   "execution_count": 160,
   "metadata": {},
   "outputs": [
    {
     "data": {
      "text/plain": [
       "cluster_center (generic function with 1 method)"
      ]
     },
     "metadata": {},
     "output_type": "display_data"
    }
   ],
   "source": [
    "function cluster_center(p,k)\n",
    "    p1 = mod.(p .- 1,k) .+ 1\n",
    "    p2 = div.(p .- 1,k) .+ 1\n",
    "    Delta = 1/(3k-1)\n",
    "    x1 =  Delta*(1 .+ 3*(p1 .- 1)) .- 1/2\n",
    "    x2 =  Delta*(1 .+ 3*(p2 .- 1)) .- 1/2\n",
    "    return x1,x2\n",
    "end"
   ]
  },
  {
   "cell_type": "code",
   "execution_count": 161,
   "metadata": {},
   "outputs": [
    {
     "data": {
      "text/plain": [
       "get_data (generic function with 1 method)"
      ]
     },
     "metadata": {},
     "output_type": "display_data"
    }
   ],
   "source": [
    "function get_data(k, n, m)\n",
    "    sd = 0 # number of spurious dimensions\n",
    "    Delta = 1/(3k-1) # interclass distance\n",
    "    A = ones(k^2) # cluster affectation\n",
    "    A[randperm(k^2)[1:div(k^2,2)]] .= -1\n",
    "\n",
    "    # sample from it\n",
    "    P = rand(1:k^2,n) # cluster label\n",
    "    T = 2π*rand(n)  # shift angle\n",
    "    R = Delta*rand(n) # shift magnitude\n",
    "    X = cat(ones(n), cluster_center(P,k)[1] .+ R .* cos.(T),cluster_center(P,k)[2] + R .* sin.(T), (rand(n,sd) .- 1/2), dims=2)\n",
    "    Y = A[P]\n",
    "    return X, Y\n",
    "end"
   ]
  },
  {
   "cell_type": "code",
   "execution_count": 162,
   "metadata": {},
   "outputs": [
    {
     "data": {
      "text/plain": [
       "([1.0 0.3660841701522802 -0.42189341620717224; 1.0 -0.46761241481235705 -0.4663142936969998; 1.0 -0.41351456021117194 -0.10282139246828009; 1.0 -0.09190000326405692 -0.4743564783161885], [1.0, 1.0, -1.0, 1.0])"
      ]
     },
     "metadata": {},
     "output_type": "display_data"
    }
   ],
   "source": [
    "X, Y = get_data(k, n, m)"
   ]
  },
  {
   "cell_type": "code",
   "execution_count": 163,
   "metadata": {},
   "outputs": [
    {
     "data": {
      "text/plain": [
       "([1.0 0.3660841701522802 -0.42189341620717224; 1.0 -0.46761241481235705 -0.4663142936969998; 1.0 -0.09190000326405692 -0.4743564783161885], [1.0 -0.41351456021117194 -0.10282139246828009])"
      ]
     },
     "metadata": {},
     "output_type": "display_data"
    }
   ],
   "source": [
    "X1 = X[(Y .== 1),:]\n",
    "X2 = X[(Y .== -1),:]\n",
    "X1, X2"
   ]
  },
  {
   "cell_type": "code",
   "execution_count": 166,
   "metadata": {},
   "outputs": [
    {
     "ename": "ErrorException",
     "evalue": "Cannot convert String to series data for plotting",
     "output_type": "error",
     "traceback": [
      "Cannot convert String to series data for plotting\n",
      "\n",
      "Stacktrace:\n",
      "  [1] error(s::String)\n",
      "    @ Base .\\error.jl:33\n",
      "  [2] _prepare_series_data(x::String)\n",
      "    @ RecipesPipeline C:\\Users\\Kevalee Shah\\.julia\\packages\\RecipesPipeline\\Bxu2O\\src\\series.jl:8\n",
      "  [3] _series_data_vector(x::String, plotattributes::Dict{Symbol, Any})\n",
      "    @ RecipesPipeline C:\\Users\\Kevalee Shah\\.julia\\packages\\RecipesPipeline\\Bxu2O\\src\\series.jl:27\n",
      "  [4] macro expansion\n",
      "    @ C:\\Users\\Kevalee Shah\\.julia\\packages\\RecipesPipeline\\Bxu2O\\src\\series.jl:145 [inlined]\n",
      "  [5] apply_recipe(plotattributes::AbstractDict{Symbol, Any}, #unused#::Type{RecipesPipeline.SliceIt}, x::Any, y::Any, z::Any)\n",
      "    @ RecipesPipeline C:\\Users\\Kevalee Shah\\.julia\\packages\\RecipesBase\\qpxEX\\src\\RecipesBase.jl:289\n",
      "  [6] _process_userrecipes!(plt::Any, plotattributes::Any, args::Any)\n",
      "    @ RecipesPipeline C:\\Users\\Kevalee Shah\\.julia\\packages\\RecipesPipeline\\Bxu2O\\src\\user_recipe.jl:36\n",
      "  [7] recipe_pipeline!(plt::Any, plotattributes::Any, args::Any)\n",
      "    @ RecipesPipeline C:\\Users\\Kevalee Shah\\.julia\\packages\\RecipesPipeline\\Bxu2O\\src\\RecipesPipeline.jl:70\n",
      "  [8] _plot!(plt::Plots.Plot, plotattributes::Any, args::Any)\n",
      "    @ Plots C:\\Users\\Kevalee Shah\\.julia\\packages\\Plots\\UeTBV\\src\\plot.jl:208\n",
      "  [9] plot(::Any, ::Vararg{Any}; kw::Base.Pairs{Symbol, V, Tuple{Vararg{Symbol, N}}, NamedTuple{names, T}} where {V, N, names, T<:Tuple{Vararg{Any, N}}})\n",
      "    @ Plots C:\\Users\\Kevalee Shah\\.julia\\packages\\Plots\\UeTBV\\src\\plot.jl:91\n",
      " [10] plot(::Any, ::Any, ::Any)\n",
      "    @ Plots C:\\Users\\Kevalee Shah\\.julia\\packages\\Plots\\UeTBV\\src\\plot.jl:85\n",
      " [11] top-level scope\n",
      "    @ c:\\Users\\Kevalee Shah\\Documents\\Cambridge\\Part III\\Michaelmas\\Theory of Deep Learning\\Project\\2020-implicit-bias-wide-2NN\\testing.ipynb:2\n",
      " [12] eval\n",
      "    @ .\\boot.jl:373 [inlined]\n",
      " [13] include_string(mapexpr::typeof(REPL.softscope), mod::Module, code::String, filename::String)\n",
      "    @ Base .\\loading.jl:1196\n",
      " [14] #invokelatest#2\n",
      "    @ .\\essentials.jl:716 [inlined]\n",
      " [15] invokelatest\n",
      "    @ .\\essentials.jl:714 [inlined]\n",
      " [16] (::VSCodeServer.var\"#150#151\"{VSCodeServer.NotebookRunCellArguments, String})()\n",
      "    @ VSCodeServer c:\\Users\\Kevalee Shah\\.vscode\\extensions\\julialang.language-julia-1.5.8\\scripts\\packages\\VSCodeServer\\src\\serve_notebook.jl:18\n",
      " [17] withpath(f::VSCodeServer.var\"#150#151\"{VSCodeServer.NotebookRunCellArguments, String}, path::String)\n",
      "    @ VSCodeServer c:\\Users\\Kevalee Shah\\.vscode\\extensions\\julialang.language-julia-1.5.8\\scripts\\packages\\VSCodeServer\\src\\repl.jl:185\n",
      " [18] notebook_runcell_request(conn::VSCodeServer.JSONRPC.JSONRPCEndpoint{Base.PipeEndpoint, Base.PipeEndpoint}, params::VSCodeServer.NotebookRunCellArguments)\n",
      "    @ VSCodeServer c:\\Users\\Kevalee Shah\\.vscode\\extensions\\julialang.language-julia-1.5.8\\scripts\\packages\\VSCodeServer\\src\\serve_notebook.jl:14\n",
      " [19] dispatch_msg(x::VSCodeServer.JSONRPC.JSONRPCEndpoint{Base.PipeEndpoint, Base.PipeEndpoint}, dispatcher::VSCodeServer.JSONRPC.MsgDispatcher, msg::Dict{String, Any})\n",
      "    @ VSCodeServer.JSONRPC c:\\Users\\Kevalee Shah\\.vscode\\extensions\\julialang.language-julia-1.5.8\\scripts\\packages\\JSONRPC\\src\\typed.jl:67\n",
      " [20] serve_notebook(pipename::String; crashreporting_pipename::String)\n",
      "    @ VSCodeServer c:\\Users\\Kevalee Shah\\.vscode\\extensions\\julialang.language-julia-1.5.8\\scripts\\packages\\VSCodeServer\\src\\serve_notebook.jl:94\n",
      " [21] top-level scope\n",
      "    @ c:\\Users\\Kevalee Shah\\.vscode\\extensions\\julialang.language-julia-1.5.8\\scripts\\notebook\\notebook.jl:12\n",
      " [22] include(mod::Module, _path::String)\n",
      "    @ Base .\\Base.jl:418\n",
      " [23] exec_options(opts::Base.JLOptions)\n",
      "    @ Base .\\client.jl:292\n",
      " [24] _start()\n",
      "    @ Base .\\client.jl:495"
     ]
    }
   ],
   "source": [
    "figure(figsize=[2.5,2.5])\n",
    "    plot(X1[:,2],X1[:,3],\"+r\")\n",
    "    plot(X2[:,2],X2[:,3],\"_b\")\n",
    "    plot(cluster_center(1:k^2,k)[1],cluster_center(1:k^2,k)[2],\"ok\")\n",
    "    axis(\"equal\");#axis(\"off\")\n",
    "    xticks([], []); yticks([], [])\n",
    "    savefig(name * \"testing_setting.pdf\",bbox_inches=\"tight\")"
   ]
  },
  {
   "cell_type": "code",
   "execution_count": null,
   "metadata": {},
   "outputs": [],
   "source": []
  }
 ],
 "metadata": {
  "kernelspec": {
   "display_name": "Julia 1.7.1",
   "language": "julia",
   "name": "julia-1.7"
  },
  "language_info": {
   "file_extension": ".jl",
   "mimetype": "application/julia",
   "name": "julia",
   "version": "1.7.1"
  },
  "orig_nbformat": 4
 },
 "nbformat": 4,
 "nbformat_minor": 2
}
