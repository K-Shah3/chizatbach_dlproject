{
 "cells": [
  {
   "cell_type": "markdown",
   "metadata": {},
   "source": [
    "# R252 Deep Learning Project\n",
    "## Implicit Bias of Gradient Descent"
   ]
  },
  {
   "cell_type": "markdown",
   "metadata": {},
   "source": []
  },
  {
   "cell_type": "markdown",
   "metadata": {},
   "source": [
    "This project aims to look at the implicit bias of gradient descent, in particular through experiments with wide two-layer neural networks. The project aims to reproduce the paper by Chizat and Bach, 'Implicit Bias of Gradient Descent for Wide Two-Layer Neural Networks Trained with the Logistic Loss'. \n",
    "\n",
    "The main contributions of the paper are as follows: \n",
    "\n",
    "\n",
    "The first half of this project is to aim to recreate and verify the results that have been explored in the paper. \n",
    "The second half of this project will find different avenues to explore to extend upon the simple experiments they have carried out and to see if another further conclusions could be drawn from the investigation. "
   ]
  },
  {
   "cell_type": "markdown",
   "metadata": {},
   "source": [
    "### Setting\n",
    "\n",
    "In this project, the following parameters will be used, and unless stated otherwise, the default value of that parameter will be used. \n",
    "- $m$: number of neurons, default value: $500$\n",
    "- $n$: number of training samples, default value: $100$\n",
    "- $d$: dimension of input data, default value: $2$\n",
    "- $k$: number of clusters per dimension, default value: $4$\n",
    "- $t$: number of iterations when training"
   ]
  },
  {
   "cell_type": "code",
   "execution_count": 1,
   "metadata": {},
   "outputs": [],
   "source": [
    "using PyPlot, ProgressMeter\n",
    "using LinearAlgebra, Random, Statistics"
   ]
  },
  {
   "cell_type": "code",
   "execution_count": 2,
   "metadata": {},
   "outputs": [
    {
     "data": {
      "text/plain": [
       "twonet"
      ]
     },
     "metadata": {},
     "output_type": "display_data"
    }
   ],
   "source": [
    "\"\"\"\n",
    "Gradient ascent to train a 2-layers ReLU neural net for the soft-min loss\n",
    "INPUT: X (training input), Y (training output), m (nb neurons), both: training both layers or just the output\n",
    "OUTPUT: Ws (training trajectory)\n",
    "\"\"\"\n",
    "function twonet(X, Y, m, stepsize, niter; both=true, activation_function=relu_act) \n",
    "    (n,d) = size(X)\n",
    "    W_init = randn(m, d+1)\n",
    "    if !both\n",
    "        W_init[:,end] .= 0\n",
    "    end\n",
    "\n",
    "    W     = copy(W_init)\n",
    "    Ws    = zeros(m, d+1, niter) # store optimization path\n",
    "    loss  = zeros(niter)\n",
    "    margins = zeros(niter)\n",
    "    betas = zeros(niter)\n",
    "\n",
    "    for iter = 1:niter\n",
    "        Ws[:,:,iter] = W\n",
    "        act_input = W[:,1:end-1] * X'\n",
    "        act = activation_function.(act_input) # (size m × n)\n",
    "        # act  =  max.( W[:,1:end-1] * X', 0.0) \n",
    "        out  =  (1/m) * sum( W[:,end] .* act , dims=1) # (size 1 × n)\n",
    "        perf = Y .* out[:]\n",
    "        margin = minimum(perf)\n",
    "        temp = exp.(margin .- perf) # stabilization\n",
    "        gradR = temp .* Y ./ sum(temp)' # size n\n",
    "        grad_w1 = (W[:,end] .* float.(act .> 0) * ( X .* gradR  ))  # (size m × d) \n",
    "        grad_w2 = act * gradR  # size m\n",
    "        \n",
    "        if both\n",
    "            grad = cat(grad_w1, grad_w2, dims=2) # size (m × d+1)\n",
    "            betas[iter] = sum(W.^2)/m\n",
    "            loss[iter] = margin - log(sum(exp.(margin .- perf))/n)\n",
    "            margins[iter] = margin/betas[iter]\n",
    "            W = W + stepsize * grad/(sqrt(iter+1))\n",
    "            \n",
    "         else \n",
    "            grad = cat(zeros(m,d), grad_w2, dims=2) # size (m × d+1)\n",
    "            betas[iter] = maximum([1,sqrt(sum(W[:,end].^2)/m)])\n",
    "            loss[iter] = margin - log(sum(exp.(margin .- perf))/n)\n",
    "            margins[iter] = margin/(sqrt(sum(W[:,end].^2))/m)\n",
    "            W = W + betas[iter] * stepsize * grad /(sqrt(iter+1))\n",
    "        end\n",
    "    end\n",
    "    Ws, loss, margins, betas\n",
    "end"
   ]
  },
  {
   "cell_type": "code",
   "execution_count": 3,
   "metadata": {},
   "outputs": [
    {
     "data": {
      "text/plain": [
       "cluster_center"
      ]
     },
     "metadata": {},
     "output_type": "display_data"
    }
   ],
   "source": [
    "\"Coordinates of the 2d cluster centers, p is k^2 the number of clusters\"\n",
    "function cluster_center(p,k)\n",
    "    p1 = mod.(p .- 1,k) .+ 1\n",
    "    p2 = div.(p .- 1,k) .+ 1\n",
    "    Delta = 1/(3k-1)\n",
    "    x1 =  Delta*(1 .+ 3*(p1 .- 1)) .- 1/2\n",
    "    x2 =  Delta*(1 .+ 3*(p2 .- 1)) .- 1/2\n",
    "    return x1,x2\n",
    "end"
   ]
  },
  {
   "cell_type": "code",
   "execution_count": 4,
   "metadata": {},
   "outputs": [
    {
     "data": {
      "text/plain": [
       "train_network_both_single (generic function with 1 method)"
      ]
     },
     "metadata": {},
     "output_type": "display_data"
    }
   ],
   "source": [
    "\"Train a two-layer neural network, by default both layers are trained, but option to train a single layer only\"\n",
    "function train_network(k, n, m, t; stepsize=0.5, both=true, activation_function=relu_act)\n",
    "    # data distribution\n",
    "    sd = 0 # number of spurious dimensions\n",
    "    Delta = 1/(3k-1) # interclass distance\n",
    "    A = ones(k^2) # cluster affectation\n",
    "    A[randperm(k^2)[1:div(k^2,2)]] .= -1\n",
    "\n",
    "    # sample from it\n",
    "    P = rand(1:k^2,n) # cluster label\n",
    "    T = 2π*rand(n)  # shift angle\n",
    "    R = Delta*rand(n) # shift magnitude\n",
    "    X = cat(ones(n), cluster_center(P,k)[1] .+ R .* cos.(T),cluster_center(P,k)[2] + R .* sin.(T), (rand(n,sd) .- 1/2), dims=2)\n",
    "    Y = A[P]\n",
    "\n",
    "    Ws, loss, margins, betas = twonet(X, Y, m, stepsize, t; both=both, activation_function=activation_function)\n",
    "    return X, Y, Ws, loss, margins, betas\n",
    "end\n",
    "\n",
    "function get_X_Y(k, n; d=3)\n",
    "    # data distribution \n",
    "    sd = d-3\n",
    "    Delta = 1/(3k-1)\n",
    "    A = ones(k^2) \n",
    "    A[randperm(k^2)[1:div(k^2,2)]] .= -1 # cluster affectation\n",
    "    \n",
    "    # sample from it\n",
    "    P = rand(1:k^2,n)\n",
    "    T = 2π*rand(n)\n",
    "    R = Delta*rand(n)\n",
    "    X = cat(ones(n),\n",
    "            cluster_center(P,k)[1] .+ R .* cos.(T), \n",
    "            cluster_center(P,k)[2] + R .* sin.(T), \n",
    "            rand(n,sd) .- 1/2,\n",
    "            dims=2)\n",
    "    Y = A[P]\n",
    "    return X,Y\n",
    "end\n",
    "\n",
    "function train_network_given_X_Y(X, Y, m, t; stepsize=0.5, both=true, activation_function=relu_act)\n",
    "    Ws, loss, margins, betas = twonet(X, Y, m, stepsize, t; both=both, activation_function=activation_function)\n",
    "    return Ws, loss, margins, betas\n",
    "end\n",
    "\n",
    "function train_network_both_single(k, n, m, t; stepsize=0.5, activation_function=relu_act)\n",
    "    X, Y = get_X_Y(k, n)\n",
    "    Ws_single, loss_single, margins_single, betas_single = train_network_given_X_Y(X, y, m, t; both=false, activation_function=activation_function)\n",
    "    Ws_both, loss_both, margins_both, betas_both = train_network_given_X_Y(X, y, m, t; both=true, activation_function=activation_function)\n",
    "    return X, Y, Ws_single, loss_single, margins_single, betas_single, Ws_both, loss_both, margins_both, betas_both\n",
    "end"
   ]
  },
  {
   "cell_type": "code",
   "execution_count": 5,
   "metadata": {},
   "outputs": [
    {
     "data": {
      "text/plain": [
       "plot_data (generic function with 1 method)"
      ]
     },
     "metadata": {},
     "output_type": "display_data"
    }
   ],
   "source": [
    "function plot_data(X, Y, k; save_flag=false, name=\"data_plot\")\n",
    "    X1 = X[(Y .== 1),:]\n",
    "    X2 = X[(Y .== -1),:]\n",
    "    # figure(figsize=[2.5,2.5])\n",
    "    p = plot(X1[:,2],X1[:,3],\"+r\")\n",
    "    plot(X2[:,2],X2[:,3],\"_b\")\n",
    "    plot(cluster_center(1:k^2,k)[1],cluster_center(1:k^2,k)[2],\"ok\")\n",
    "    axis(\"equal\");axis(\"off\");\n",
    "    # axis(\"equal\");\n",
    "    xticks([], []); yticks([], [])\n",
    "    if save_flag\n",
    "        savefig(name * \".pdf\",bbox_inches=\"tight\")\n",
    "    end\n",
    "    return p\n",
    "end"
   ]
  },
  {
   "cell_type": "code",
   "execution_count": 6,
   "metadata": {},
   "outputs": [
    {
     "data": {
      "text/plain": [
       "plot_margins (generic function with 1 method)"
      ]
     },
     "metadata": {},
     "output_type": "display_data"
    }
   ],
   "source": [
    "function plot_margins(X, Y, Ws; save_flag=false, name=\"margin_plot\")\n",
    "    X1 = X[(Y .== 1),:]\n",
    "    X2 = X[(Y .== -1),:]\n",
    "    # figure(figsize=[2.5,2.5])\n",
    "    f(x1, x2, t) = (1/m) * sum( Ws[:,end,t] .* max.( Ws[:,1:3,t] * [1;x1;x2], 0.0)) # (size 1 × n) # final prediction after training using the weights from after step t\n",
    "    xs = -0.8:0.01:0.8\n",
    "    tab1 = [f(xs[i],xs[j],size(Ws,3)) for i=1:length(xs), j=1:length(xs)]\n",
    "    p = pcolormesh(xs', xs, tanh.(1000*tab1'),cmap=\"coolwarm\",shading=\"gouraud\",vmin=-1.0,vmax=1.0,edgecolor=\"face\")\n",
    "    xs = -0.8:0.005:0.8\n",
    "    tab1 = [f(xs[i],xs[j],size(Ws,3)) for i=1:length(xs), j=1:length(xs)]\n",
    "    contour(xs', xs, tanh.(1000*tab1'),levels =0, colors=\"k\",antialiased = true,linewidths=2)\n",
    "    plot(X1[:,2],X1[:,3],\"+k\")\n",
    "    plot(X2[:,2],X2[:,3],\"_k\")\n",
    "    axis(\"equal\");axis(\"off\");\n",
    "    # axis(\"equal\");\n",
    "    if save_flag\n",
    "        savefig(name * \"_margins.pdf\",bbox_inches=\"tight\")\n",
    "    end\n",
    "    return p\n",
    "end "
   ]
  },
  {
   "cell_type": "code",
   "execution_count": null,
   "metadata": {},
   "outputs": [],
   "source": [
    "k = 4\n",
    "n = 100\n",
    "m = 500\n",
    "t = 20\n",
    "save = true\n",
    "\n",
    "X, Y, Ws_single, loss_single, margins_single, betas_single = train_network(k, n, m, t; stepsize=0.5, both=false)\n",
    "Ws_both, loss_both, margins_both, betas_both = train_network_given_X_Y(X, Y, m, t; stepsize=0.5, both=true)"
   ]
  },
  {
   "cell_type": "markdown",
   "metadata": {},
   "source": [
    "## Plot data distribution"
   ]
  },
  {
   "cell_type": "code",
   "execution_count": 34,
   "metadata": {},
   "outputs": [
    {
     "data": {
      "image/png": "[encoded data removed]",
      "text/plain": [
       "Figure(PyObject <Figure size 750x250 with 1 Axes>)"
      ]
     },
     "metadata": {},
     "output_type": "display_data"
    }
   ],
   "source": [
    "PyPlot.clf()\n",
    "p1 = plot_data(X, Y, k; save_flag=true, name=\"data_dist_1\")\n",
    "gcf()"
   ]
  },
  {
   "cell_type": "markdown",
   "metadata": {},
   "source": [
    "## Plot single layer margins \n"
   ]
  },
  {
   "cell_type": "code",
   "execution_count": 35,
   "metadata": {},
   "outputs": [
    {
     "data": {
      "image/png": "[encoded data removed]",
      "text/plain": [
       "Figure(PyObject <Figure size 750x250 with 1 Axes>)"
      ]
     },
     "metadata": {},
     "output_type": "display_data"
    }
   ],
   "source": [
    "PyPlot.clf()\n",
    "p2 = plot_margins(X, Y, Ws_single; save_flag=true, name=\"single\")\n",
    "gcf()"
   ]
  },
  {
   "cell_type": "markdown",
   "metadata": {},
   "source": [
    "## Plot double layer margins"
   ]
  },
  {
   "cell_type": "code",
   "execution_count": 36,
   "metadata": {},
   "outputs": [
    {
     "data": {
      "image/png": "[encoded data removed]",
      "text/plain": [
       "Figure(PyObject <Figure size 750x250 with 1 Axes>)"
      ]
     },
     "metadata": {},
     "output_type": "display_data"
    }
   ],
   "source": [
    "PyPlot.clf()\n",
    "p3 = plot_margins(X, Y, Ws_both; save_flag=true, name=\"both\")\n",
    "gcf()"
   ]
  },
  {
   "cell_type": "markdown",
   "metadata": {},
   "source": [
    "## Plot all together"
   ]
  },
  {
   "cell_type": "code",
   "execution_count": 36,
   "metadata": {},
   "outputs": [
    {
     "data": {
      "text/plain": [
       "plot_dist_and_margins (generic function with 1 method)"
      ]
     },
     "metadata": {},
     "output_type": "display_data"
    }
   ],
   "source": [
    "function plot_dist_and_margins(k, n, m, t, save_name; save_flag=save, activation_function=relu_act)\n",
    "    X, Y, Ws_single, loss_single, margins_single, betas_single = train_network(k, n, m, t; stepsize=0.5, both=false, activation_function=activation_function)\n",
    "    Ws_both, loss_both, margins_both, betas_both = train_network_given_X_Y(X, Y, m, t; stepsize=0.5, both=true, activation_function=activation_function)\n",
    "\n",
    "    PyPlot.clf()\n",
    "    fig = figure(\"data dist and margins\",figsize=(7.5,2.5))\n",
    "    # fig = figure(\"data dist and margins\")\n",
    "\n",
    "    subplot(131)\n",
    "    p1 = plot_data(X, Y, k; save_flag=false, name=\"data_dist_1\")\n",
    "    # axis(\"equal\");axis(\"off\")\n",
    "    PyPlot.title(\"data dist\")\n",
    "\n",
    "    subplot(132)\n",
    "    p2 = plot_margins(X, Y, Ws_single; save_flag=false, name=\"single\")\n",
    "    # axis(\"equal\");axis(\"off\")\n",
    "    PyPlot.title(\"Margins Single\")\n",
    "\n",
    "    subplot(133)\n",
    "    p3 = plot_margins(X, Y, Ws_both; save_flag=false, name=\"both\")\n",
    "    # axis(\"equal\");axis(\"off\")\n",
    "    PyPlot.title(\"Margins Double\")\n",
    "    PyPlot.suptitle(\"\", y=1.12)\n",
    "    if save_flag\n",
    "        savefig(save_name * \".pdf\", bbox_inches=\"tight\")\n",
    "    end\n",
    "    return fig\n",
    "end\n",
    "    "
   ]
  },
  {
   "cell_type": "code",
   "execution_count": 44,
   "metadata": {},
   "outputs": [
    {
     "data": {
      "text/plain": [
       "plot_dist_and_margins_given_X_Y (generic function with 1 method)"
      ]
     },
     "metadata": {},
     "output_type": "display_data"
    }
   ],
   "source": [
    "function plot_dist_and_margins_given_X_Y(X, Y, k, n, m, t, save_name; save_flag=save, activation_function=relu_act)\n",
    "    Ws_single, loss_single, margins_single, betas_single = train_network_given_X_Y(X, Y, m, t; stepsize=0.5, both=false, activation_function=activation_function)\n",
    "    Ws_both, loss_both, margins_both, betas_both = train_network_given_X_Y(X, Y, m, t; stepsize=0.5, both=true, activation_function=activation_function)\n",
    "\n",
    "    PyPlot.clf()\n",
    "    fig = figure(\"data dist and margins\",figsize=(7.5,2.5))\n",
    "    # fig = figure(\"data dist and margins\")\n",
    "\n",
    "    subplot(131)\n",
    "    p1 = plot_data(X, Y, k; save_flag=false, name=\"data_dist_1\")\n",
    "    # axis(\"equal\");axis(\"off\")\n",
    "    PyPlot.title(\"data dist\")\n",
    "\n",
    "    subplot(132)\n",
    "    p2 = plot_margins(X, Y, Ws_single; save_flag=false, name=\"single\")\n",
    "    # axis(\"equal\");axis(\"off\")\n",
    "    PyPlot.title(\"Margins Single\")\n",
    "\n",
    "    subplot(133)\n",
    "    p3 = plot_margins(X, Y, Ws_both; save_flag=false, name=\"both\")\n",
    "    # axis(\"equal\");axis(\"off\")\n",
    "    PyPlot.title(\"Margins Double\")\n",
    "    # PyPlot.suptitle(\"\", y=1.12)\n",
    "    if save_flag\n",
    "        savefig(save_name * \".pdf\", bbox_inches=\"tight\")\n",
    "    end\n",
    "    return fig\n",
    "end\n",
    "    "
   ]
  },
  {
   "cell_type": "code",
   "execution_count": 40,
   "metadata": {},
   "outputs": [
    {
     "data": {
      "image/png": "[encoded data removed]",
      "text/plain": [
       "Figure(PyObject <Figure size 750x250 with 3 Axes>)"
      ]
     },
     "metadata": {},
     "output_type": "display_data"
    }
   ],
   "source": [
    "plot_dist_and_margins(4, 100, 500, 1000, \"data and margin\"; save_flag=true)\n",
    "gcf()"
   ]
  },
  {
   "cell_type": "markdown",
   "metadata": {},
   "source": [
    "### Recreate Figure 1 - Multiple Experiments of Plotting Data and Margins"
   ]
  },
  {
   "cell_type": "code",
   "execution_count": 83,
   "metadata": {},
   "outputs": [
    {
     "data": {
      "text/plain": [
       "plot_data_margins_multiple_dists (generic function with 1 method)"
      ]
     },
     "metadata": {},
     "output_type": "display_data"
    }
   ],
   "source": [
    "function plot_data_margins_multiple_dists(k, n, m, niter, repeats; save_flag=false, save_name=\"dist_and_margins\", activation_function=relu_act)\n",
    "    PyPlot.clf()\n",
    "    fig = figure(\"data dist and margins\")\n",
    "    fig.set_figheight(10)\n",
    "    fig.set_figwidth(10)\n",
    "    for i in 1:repeats\n",
    "        X, Y = get_X_Y(k, n)\n",
    "        Ws_single, loss_single, margins_single, betas_single = train_network_given_X_Y(X, Y, m, niter; stepsize=0.5, both=false, activation_function=activation_function)\n",
    "        Ws_both, loss_both, margins_both, betas_both = train_network_given_X_Y(X, Y, m, niter; stepsize=0.5, both=true, activation_function=activation_function)\n",
    "\n",
    "        subplot(repeats, 3, (3*i)-2)\n",
    "        p1 = plot_data(X, Y, k; save_flag=false, name=\"data_dist_1\")\n",
    "        # axis(\"equal\");axis(\"off\")\n",
    "        PyPlot.title(\"Data Dist\")\n",
    "\n",
    "        subplot(repeats, 3, (3*i)-1)\n",
    "        p2 = plot_margins(X, Y, Ws_single; save_flag=false, name=\"single\")\n",
    "        # axis(\"equal\");axis(\"off\")\n",
    "        PyPlot.title(\"Margins Single\")\n",
    "\n",
    "        subplot(repeats, 3, (3*i))\n",
    "        p3 = plot_margins(X, Y, Ws_both; save_flag=false, name=\"single\")\n",
    "        # axis(\"equal\");axis(\"off\")\n",
    "        PyPlot.title(\"Margins Both\")\n",
    "    end\n",
    "\n",
    "    if save_flag\n",
    "        savefig(\"diagrams/\" * save_name * \".pdf\", bbox_inches=\"tight\")\n",
    "    end\n",
    "end"
   ]
  },
  {
   "cell_type": "code",
   "execution_count": 125,
   "metadata": {},
   "outputs": [
    {
     "data": {
      "image/png": "[encoded data removed]",
      "text/plain": [
       "Figure(PyObject <Figure size 1000x1000 with 12 Axes>)"
      ]
     },
     "metadata": {},
     "output_type": "display_data"
    }
   ],
   "source": [
    "k = 4\n",
    "n = 100\n",
    "m = 500\n",
    "niter = 50000\n",
    "repeats = 4\n",
    "save = true\n",
    "\n",
    "plot_data_margins_multiple_dists(k, n, m, niter, repeats; save_flag=save, save_name=\"dist_and_margins_repeats\", activation_function=relu_act)\n",
    "gcf()"
   ]
  },
  {
   "cell_type": "markdown",
   "metadata": {},
   "source": [
    "## Testing the Network"
   ]
  },
  {
   "cell_type": "code",
   "execution_count": 85,
   "metadata": {},
   "outputs": [
    {
     "data": {
      "text/plain": [
       "train_and_test_model (generic function with 1 method)"
      ]
     },
     "metadata": {},
     "output_type": "display_data"
    }
   ],
   "source": [
    "function train_and_test_model(X_train, Y_train, X_test, Y_test, n_train, m, k, d, n_test, niter, stepsize, both_flag; activation_function=relu_act)\n",
    "    # train network\n",
    "    Ws, loss, margins, betas = twonet(X_train[1:n_train, :], Y_train[1:n_train, :], m, stepsize, niter; both=both_flag, activation_function=activation_function)\n",
    "    # predict test set \n",
    "    preds = (1/m) * sum(Ws[:,end,end] .* max.( Ws[:,1:end-1,end] * X_test', 0.0), dims = 1) \n",
    "    # probability of error \n",
    "    loss = sum((Y_test .* preds') .< 0)/n_test # probability of error\n",
    "    GC.gc()\n",
    "    max_margin = maximum(margins)\n",
    "    return loss, max_margin\n",
    "end"
   ]
  },
  {
   "cell_type": "code",
   "execution_count": 96,
   "metadata": {},
   "outputs": [
    {
     "data": {
      "text/plain": [
       "calculate_loss (generic function with 1 method)"
      ]
     },
     "metadata": {},
     "output_type": "display_data"
    }
   ],
   "source": [
    "function calculate_loss(Ws, niter, m, X, Y, n_samples)\n",
    "    preds = (1/m) * sum(Ws[:,end,niter] .* max.( Ws[:,1:end-1,niter] * X', 0.0), dims = 1) \n",
    "    loss = sum((Y .* preds') .< 0)/n_samples # probability of error\n",
    "end"
   ]
  },
  {
   "cell_type": "markdown",
   "metadata": {},
   "source": [
    "### Experiment 1 - Performance As n Increases"
   ]
  },
  {
   "cell_type": "code",
   "execution_count": 9,
   "metadata": {},
   "outputs": [
    {
     "data": {
      "text/plain": [
       "experiment_ns (generic function with 1 method)"
      ]
     },
     "metadata": {},
     "output_type": "display_data"
    }
   ],
   "source": [
    "function experiment_ns(d, k, m, niter, stepsize, n_trains, n_test; both_layers=[true, false], repeats=1, activation_function=relu_act)\n",
    "    loss_single = zeros(repeats, 1, length(n_trains), 1) # (repeats, no of ds, no of ns, no of ms)\n",
    "    loss_both = zeros(repeats, 1, length(n_trains), 1) # (repeats, no of ds, no of ns, no of ms)\n",
    "    max_margin_single = zeros(repeats, 1, length(n_trains), 1) # (repeats, no of ds, no of ns, no of ms)\n",
    "    max_margin_both = zeros(repeats, 1, length(n_trains), 1) # (repeats, no of ds, no of ns, no of ms)\n",
    "    loss_arrays = [loss_both, loss_single]\n",
    "    max_margins_arrays = [max_margin_both, max_margin_single]\n",
    "    X_test, Y_test = get_X_Y(k, n_test; d=d)\n",
    "    for repeat in 1:repeats\n",
    "        X_train, Y_train = get_X_Y(k, maximum(n_trains); d=d)\n",
    "        p = Progress(length(loss_both))\n",
    "        for i in 1:length(n_trains)\n",
    "            n_train = n_trains[i]\n",
    "            for (both, loss_array, max_margin_array) in zip(both_layers, loss_arrays, max_margins_arrays)\n",
    "                loss, max_margin = train_and_test_model(X_train, Y_train, \n",
    "                                    X_test, Y_test, \n",
    "                                    n_train, m, k, d, \n",
    "                                    n_test, niter, \n",
    "                                    stepsize, both; activation_function=activation_function)\n",
    "    \n",
    "                loss_array[repeat,1,i,1] = loss\n",
    "                max_margin_array[repeat,1,i,1] = max_margin\n",
    "                next!(p)\n",
    "            end\n",
    "        end\n",
    "    end\n",
    "    # return the latest X, Y distribution\n",
    "    return X_test, Y_test, loss_single, loss_both, max_margin_single, max_margin_both\n",
    "end"
   ]
  },
  {
   "cell_type": "code",
   "execution_count": 138,
   "metadata": {},
   "outputs": [
    {
     "name": "stderr",
     "output_type": "stream",
     "text": [
      "\r\u001b[32mProgress:   2%|█                                        |  ETA: 0:12:32\u001b[39m\u001b[K"
     ]
    },
    {
     "name": "stderr",
     "output_type": "stream",
     "text": [
      "\r\u001b[32mProgress:   3%|██                                       |  ETA: 0:13:44\u001b[39m\u001b[K"
     ]
    },
    {
     "name": "stderr",
     "output_type": "stream",
     "text": [
      "\r\u001b[32mProgress:   4%|██                                       |  ETA: 0:14:18\u001b[39m\u001b[K"
     ]
    },
    {
     "name": "stderr",
     "output_type": "stream",
     "text": [
      "\r\u001b[32mProgress:   5%|███                                      |  ETA: 0:16:29\u001b[39m\u001b[K"
     ]
    },
    {
     "name": "stderr",
     "output_type": "stream",
     "text": [
      "\r\u001b[32mProgress:   6%|███                                      |  ETA: 0:17:52\u001b[39m\u001b[K"
     ]
    },
    {
     "name": "stderr",
     "output_type": "stream",
     "text": [
      "\r\u001b[32mProgress:   7%|███                                      |  ETA: 0:28:34\u001b[39m\u001b[K"
     ]
    },
    {
     "name": "stderr",
     "output_type": "stream",
     "text": [
      "\r\u001b[32mProgress:   8%|████                                     |  ETA: 0:36:54\u001b[39m\u001b[K"
     ]
    },
    {
     "name": "stderr",
     "output_type": "stream",
     "text": [
      "\r\u001b[32mProgress:   9%|████                                     |  ETA: 0:57:27\u001b[39m\u001b[K"
     ]
    },
    {
     "name": "stderr",
     "output_type": "stream",
     "text": [
      "\r\u001b[32mProgress:  10%|█████                                    |  ETA: 1:14:10\u001b[39m\u001b[K"
     ]
    },
    {
     "name": "stderr",
     "output_type": "stream",
     "text": [
      "\r\u001b[32mProgress:   2%|█                                        |  ETA: 0:17:12\u001b[39m\u001b[K"
     ]
    },
    {
     "name": "stderr",
     "output_type": "stream",
     "text": [
      "\r\u001b[32mProgress:   3%|██                                       |  ETA: 0:17:01\u001b[39m\u001b[K"
     ]
    },
    {
     "name": "stderr",
     "output_type": "stream",
     "text": [
      "\r\u001b[32mProgress:   4%|██                                       |  ETA: 0:16:40\u001b[39m\u001b[K"
     ]
    },
    {
     "name": "stderr",
     "output_type": "stream",
     "text": [
      "\r\u001b[32mProgress:   5%|███                                      |  ETA: 0:22:37\u001b[39m\u001b[K"
     ]
    },
    {
     "name": "stderr",
     "output_type": "stream",
     "text": [
      "\r\u001b[32mProgress:   6%|███                                      |  ETA: 0:23:30\u001b[39m\u001b[K"
     ]
    },
    {
     "name": "stderr",
     "output_type": "stream",
     "text": [
      "\r\u001b[32mProgress:   7%|███                                      |  ETA: 0:36:14\u001b[39m\u001b[K"
     ]
    },
    {
     "name": "stderr",
     "output_type": "stream",
     "text": [
      "\r\u001b[32mProgress:   8%|████                                     |  ETA: 0:43:21\u001b[39m\u001b[K"
     ]
    },
    {
     "name": "stderr",
     "output_type": "stream",
     "text": [
      "\r\u001b[32mProgress:   9%|████                                     |  ETA: 1:02:04\u001b[39m\u001b[K"
     ]
    },
    {
     "name": "stderr",
     "output_type": "stream",
     "text": [
      "\r\u001b[32mProgress:  10%|█████                                    |  ETA: 1:17:31\u001b[39m\u001b[K"
     ]
    },
    {
     "name": "stderr",
     "output_type": "stream",
     "text": [
      "\r\u001b[32mProgress:   2%|█                                        |  ETA: 0:13:58\u001b[39m\u001b[K"
     ]
    },
    {
     "name": "stderr",
     "output_type": "stream",
     "text": [
      "\r\u001b[32mProgress:   3%|██                                       |  ETA: 0:14:39\u001b[39m\u001b[K"
     ]
    },
    {
     "name": "stderr",
     "output_type": "stream",
     "text": [
      "\r\u001b[32mProgress:   4%|██                                       |  ETA: 0:14:50\u001b[39m\u001b[K"
     ]
    },
    {
     "name": "stderr",
     "output_type": "stream",
     "text": [
      "\r\u001b[32mProgress:   5%|███                                      |  ETA: 0:17:08\u001b[39m\u001b[K"
     ]
    },
    {
     "name": "stderr",
     "output_type": "stream",
     "text": [
      "\r\u001b[32mProgress:   6%|███                                      |  ETA: 0:18:41\u001b[39m\u001b[K"
     ]
    },
    {
     "name": "stderr",
     "output_type": "stream",
     "text": [
      "\r\u001b[32mProgress:   7%|███                                      |  ETA: 0:30:08\u001b[39m\u001b[K"
     ]
    },
    {
     "name": "stderr",
     "output_type": "stream",
     "text": [
      "\r\u001b[32mProgress:   8%|████                                     |  ETA: 0:39:05\u001b[39m\u001b[K"
     ]
    },
    {
     "name": "stderr",
     "output_type": "stream",
     "text": [
      "\r\u001b[32mProgress:   9%|████                                     |  ETA: 1:00:10\u001b[39m\u001b[K"
     ]
    },
    {
     "name": "stderr",
     "output_type": "stream",
     "text": [
      "\r\u001b[32mProgress:  10%|█████                                    |  ETA: 1:13:58\u001b[39m\u001b[K"
     ]
    },
    {
     "name": "stderr",
     "output_type": "stream",
     "text": [
      "\r\u001b[32mProgress:   2%|█                                        |  ETA: 0:13:15\u001b[39m\u001b[K"
     ]
    },
    {
     "name": "stderr",
     "output_type": "stream",
     "text": [
      "\r\u001b[32mProgress:   3%|██                                       |  ETA: 0:13:59\u001b[39m\u001b[K"
     ]
    },
    {
     "name": "stderr",
     "output_type": "stream",
     "text": [
      "\r\u001b[32mProgress:   4%|██                                       |  ETA: 0:14:20\u001b[39m\u001b[K"
     ]
    },
    {
     "name": "stderr",
     "output_type": "stream",
     "text": [
      "\r\u001b[32mProgress:   5%|███                                      |  ETA: 0:16:40\u001b[39m\u001b[K"
     ]
    },
    {
     "name": "stderr",
     "output_type": "stream",
     "text": [
      "\r\u001b[32mProgress:   6%|███                                      |  ETA: 0:18:17\u001b[39m\u001b[K"
     ]
    },
    {
     "name": "stderr",
     "output_type": "stream",
     "text": [
      "\r\u001b[32mProgress:   7%|███                                      |  ETA: 0:29:31\u001b[39m\u001b[K"
     ]
    },
    {
     "name": "stderr",
     "output_type": "stream",
     "text": [
      "\r\u001b[32mProgress:   8%|████                                     |  ETA: 0:37:36\u001b[39m\u001b[K"
     ]
    },
    {
     "name": "stderr",
     "output_type": "stream",
     "text": [
      "\r\u001b[32mProgress:   9%|████                                     |  ETA: 0:57:50\u001b[39m\u001b[K"
     ]
    },
    {
     "name": "stderr",
     "output_type": "stream",
     "text": [
      "\r\u001b[32mProgress:  10%|█████                                    |  ETA: 1:14:10\u001b[39m\u001b[K"
     ]
    },
    {
     "name": "stderr",
     "output_type": "stream",
     "text": [
      "\r\u001b[32mProgress:   2%|█                                        |  ETA: 0:13:02\u001b[39m\u001b[K"
     ]
    },
    {
     "name": "stderr",
     "output_type": "stream",
     "text": [
      "\r\u001b[32mProgress:   3%|██                                       |  ETA: 0:13:51\u001b[39m\u001b[K"
     ]
    },
    {
     "name": "stderr",
     "output_type": "stream",
     "text": [
      "\r\u001b[32mProgress:   4%|██                                       |  ETA: 0:14:19\u001b[39m\u001b[K"
     ]
    },
    {
     "name": "stderr",
     "output_type": "stream",
     "text": [
      "\r\u001b[32mProgress:   5%|███                                      |  ETA: 0:16:44\u001b[39m\u001b[K"
     ]
    },
    {
     "name": "stderr",
     "output_type": "stream",
     "text": [
      "\r\u001b[32mProgress:   6%|███                                      |  ETA: 0:18:20\u001b[39m\u001b[K"
     ]
    },
    {
     "name": "stderr",
     "output_type": "stream",
     "text": [
      "\r\u001b[32mProgress:   7%|███                                      |  ETA: 0:29:36\u001b[39m\u001b[K"
     ]
    },
    {
     "name": "stderr",
     "output_type": "stream",
     "text": [
      "\r\u001b[32mProgress:   8%|████                                     |  ETA: 0:37:38\u001b[39m\u001b[K"
     ]
    },
    {
     "name": "stderr",
     "output_type": "stream",
     "text": [
      "\r\u001b[32mProgress:   9%|████                                     |  ETA: 0:55:49\u001b[39m\u001b[K"
     ]
    },
    {
     "name": "stderr",
     "output_type": "stream",
     "text": [
      "\r\u001b[32mProgress:  10%|█████                                    |  ETA: 1:12:31\u001b[39m\u001b[K"
     ]
    },
    {
     "name": "stderr",
     "output_type": "stream",
     "text": [
      "\r\u001b[32mProgress:   2%|█                                        |  ETA: 0:16:00\u001b[39m\u001b[K"
     ]
    },
    {
     "name": "stderr",
     "output_type": "stream",
     "text": [
      "\r\u001b[32mProgress:   3%|██                                       |  ETA: 0:15:52\u001b[39m\u001b[K"
     ]
    },
    {
     "name": "stderr",
     "output_type": "stream",
     "text": [
      "\r\u001b[32mProgress:   4%|██                                       |  ETA: 0:15:52\u001b[39m\u001b[K"
     ]
    },
    {
     "name": "stderr",
     "output_type": "stream",
     "text": [
      "\r\u001b[32mProgress:   5%|███                                      |  ETA: 0:18:08\u001b[39m\u001b[K"
     ]
    },
    {
     "name": "stderr",
     "output_type": "stream",
     "text": [
      "\r\u001b[32mProgress:   6%|███                                      |  ETA: 0:19:29\u001b[39m\u001b[K"
     ]
    },
    {
     "name": "stderr",
     "output_type": "stream",
     "text": [
      "\r\u001b[32mProgress:   7%|███                                      |  ETA: 0:31:36\u001b[39m\u001b[K"
     ]
    },
    {
     "name": "stderr",
     "output_type": "stream",
     "text": [
      "\r\u001b[32mProgress:   8%|████                                     |  ETA: 0:40:36\u001b[39m\u001b[K"
     ]
    },
    {
     "name": "stderr",
     "output_type": "stream",
     "text": [
      "\r\u001b[32mProgress:   9%|████                                     |  ETA: 1:00:48\u001b[39m\u001b[K"
     ]
    },
    {
     "name": "stderr",
     "output_type": "stream",
     "text": [
      "\r\u001b[32mProgress:  10%|█████                                    |  ETA: 1:12:59\u001b[39m\u001b[K"
     ]
    },
    {
     "name": "stderr",
     "output_type": "stream",
     "text": [
      "\r\u001b[32mProgress:   2%|█                                        |  ETA: 0:13:43\u001b[39m\u001b[K"
     ]
    },
    {
     "name": "stderr",
     "output_type": "stream",
     "text": [
      "\r\u001b[32mProgress:   3%|██                                       |  ETA: 0:14:26\u001b[39m\u001b[K"
     ]
    },
    {
     "name": "stderr",
     "output_type": "stream",
     "text": [
      "\r\u001b[32mProgress:   4%|██                                       |  ETA: 0:14:47\u001b[39m\u001b[K"
     ]
    },
    {
     "name": "stderr",
     "output_type": "stream",
     "text": [
      "\r\u001b[32mProgress:   5%|███                                      |  ETA: 0:17:01\u001b[39m\u001b[K"
     ]
    },
    {
     "name": "stderr",
     "output_type": "stream",
     "text": [
      "\r\u001b[32mProgress:   6%|███                                      |  ETA: 0:18:25\u001b[39m\u001b[K"
     ]
    },
    {
     "name": "stderr",
     "output_type": "stream",
     "text": [
      "\r\u001b[32mProgress:   7%|███                                      |  ETA: 0:29:20\u001b[39m\u001b[K"
     ]
    },
    {
     "name": "stderr",
     "output_type": "stream",
     "text": [
      "\r\u001b[32mProgress:   8%|████                                     |  ETA: 0:37:22\u001b[39m\u001b[K"
     ]
    },
    {
     "name": "stderr",
     "output_type": "stream",
     "text": [
      "\r\u001b[32mProgress:   9%|████                                     |  ETA: 0:53:41\u001b[39m\u001b[K"
     ]
    },
    {
     "name": "stderr",
     "output_type": "stream",
     "text": [
      "\r\u001b[32mProgress:  10%|█████                                    |  ETA: 1:10:46\u001b[39m\u001b[K"
     ]
    },
    {
     "name": "stderr",
     "output_type": "stream",
     "text": [
      "\r\u001b[32mProgress:   2%|█                                        |  ETA: 0:17:21\u001b[39m\u001b[K"
     ]
    },
    {
     "name": "stderr",
     "output_type": "stream",
     "text": [
      "\r\u001b[32mProgress:   3%|██                                       |  ETA: 0:17:05\u001b[39m\u001b[K"
     ]
    },
    {
     "name": "stderr",
     "output_type": "stream",
     "text": [
      "\r\u001b[32mProgress:   4%|██                                       |  ETA: 0:16:44\u001b[39m\u001b[K"
     ]
    },
    {
     "name": "stderr",
     "output_type": "stream",
     "text": [
      "\r\u001b[32mProgress:   5%|███                                      |  ETA: 0:18:34\u001b[39m\u001b[K"
     ]
    },
    {
     "name": "stderr",
     "output_type": "stream",
     "text": [
      "\r\u001b[32mProgress:   6%|███                                      |  ETA: 0:20:31\u001b[39m\u001b[K"
     ]
    },
    {
     "name": "stderr",
     "output_type": "stream",
     "text": [
      "\r\u001b[32mProgress:   7%|███                                      |  ETA: 0:32:04\u001b[39m\u001b[K"
     ]
    },
    {
     "name": "stderr",
     "output_type": "stream",
     "text": [
      "\r\u001b[32mProgress:   8%|████                                     |  ETA: 0:39:43\u001b[39m\u001b[K"
     ]
    },
    {
     "name": "stderr",
     "output_type": "stream",
     "text": [
      "\r\u001b[32mProgress:   9%|████                                     |  ETA: 0:58:42\u001b[39m\u001b[K"
     ]
    },
    {
     "name": "stderr",
     "output_type": "stream",
     "text": [
      "\r\u001b[32mProgress:  10%|█████                                    |  ETA: 1:14:54\u001b[39m\u001b[K"
     ]
    },
    {
     "name": "stderr",
     "output_type": "stream",
     "text": [
      "\r\u001b[32mProgress:   2%|█                                        |  ETA: 0:14:34\u001b[39m\u001b[K"
     ]
    },
    {
     "name": "stderr",
     "output_type": "stream",
     "text": [
      "\r\u001b[32mProgress:   3%|██                                       |  ETA: 0:14:36\u001b[39m\u001b[K"
     ]
    },
    {
     "name": "stderr",
     "output_type": "stream",
     "text": [
      "\r\u001b[32mProgress:   4%|██                                       |  ETA: 0:14:52\u001b[39m\u001b[K"
     ]
    },
    {
     "name": "stderr",
     "output_type": "stream",
     "text": [
      "\r\u001b[32mProgress:   5%|███                                      |  ETA: 0:17:04\u001b[39m\u001b[K"
     ]
    },
    {
     "name": "stderr",
     "output_type": "stream",
     "text": [
      "\r\u001b[32mProgress:   6%|███                                      |  ETA: 0:18:33\u001b[39m\u001b[K"
     ]
    },
    {
     "name": "stderr",
     "output_type": "stream",
     "text": [
      "\r\u001b[32mProgress:   7%|███                                      |  ETA: 0:29:32\u001b[39m\u001b[K"
     ]
    },
    {
     "name": "stderr",
     "output_type": "stream",
     "text": [
      "\r\u001b[32mProgress:   8%|████                                     |  ETA: 0:37:32\u001b[39m\u001b[K"
     ]
    },
    {
     "name": "stderr",
     "output_type": "stream",
     "text": [
      "\r\u001b[32mProgress:   9%|████                                     |  ETA: 0:53:20\u001b[39m\u001b[K"
     ]
    },
    {
     "name": "stderr",
     "output_type": "stream",
     "text": [
      "\r\u001b[32mProgress:  10%|█████                                    |  ETA: 1:10:34\u001b[39m\u001b[K"
     ]
    },
    {
     "name": "stderr",
     "output_type": "stream",
     "text": [
      "\r\u001b[32mProgress:   2%|█                                        |  ETA: 0:14:31\u001b[39m\u001b[K"
     ]
    },
    {
     "name": "stderr",
     "output_type": "stream",
     "text": [
      "\r\u001b[32mProgress:   3%|██                                       |  ETA: 0:14:52\u001b[39m\u001b[K"
     ]
    },
    {
     "name": "stderr",
     "output_type": "stream",
     "text": [
      "\r\u001b[32mProgress:   4%|██                                       |  ETA: 0:15:04\u001b[39m\u001b[K"
     ]
    },
    {
     "name": "stderr",
     "output_type": "stream",
     "text": [
      "\r\u001b[32mProgress:   5%|███                                      |  ETA: 0:17:21\u001b[39m\u001b[K"
     ]
    },
    {
     "name": "stderr",
     "output_type": "stream",
     "text": [
      "\r\u001b[32mProgress:   6%|███                                      |  ETA: 0:18:46\u001b[39m\u001b[K"
     ]
    },
    {
     "name": "stderr",
     "output_type": "stream",
     "text": [
      "\r\u001b[32mProgress:   7%|███                                      |  ETA: 0:30:09\u001b[39m\u001b[K"
     ]
    },
    {
     "name": "stderr",
     "output_type": "stream",
     "text": [
      "\r\u001b[32mProgress:   8%|████                                     |  ETA: 0:38:17\u001b[39m\u001b[K"
     ]
    },
    {
     "name": "stderr",
     "output_type": "stream",
     "text": [
      "\r\u001b[32mProgress:   9%|████                                     |  ETA: 0:57:43\u001b[39m\u001b[K"
     ]
    },
    {
     "name": "stderr",
     "output_type": "stream",
     "text": [
      "\r\u001b[32mProgress:  10%|█████                                    |  ETA: 1:10:29\u001b[39m\u001b[K"
     ]
    },
    {
     "name": "stderr",
     "output_type": "stream",
     "text": [
      "\r\u001b[32mProgress:   2%|█                                        |  ETA: 0:12:38\u001b[39m\u001b[K"
     ]
    },
    {
     "name": "stderr",
     "output_type": "stream",
     "text": [
      "\r\u001b[32mProgress:   3%|██                                       |  ETA: 0:13:41\u001b[39m\u001b[K"
     ]
    },
    {
     "name": "stderr",
     "output_type": "stream",
     "text": [
      "\r\u001b[32mProgress:   4%|██                                       |  ETA: 0:14:11\u001b[39m\u001b[K"
     ]
    },
    {
     "name": "stderr",
     "output_type": "stream",
     "text": [
      "\r\u001b[32mProgress:   5%|███                                      |  ETA: 0:16:31\u001b[39m\u001b[K"
     ]
    },
    {
     "name": "stderr",
     "output_type": "stream",
     "text": [
      "\r\u001b[32mProgress:   6%|███                                      |  ETA: 0:18:08\u001b[39m\u001b[K"
     ]
    },
    {
     "name": "stderr",
     "output_type": "stream",
     "text": [
      "\r\u001b[32mProgress:   7%|███                                      |  ETA: 0:29:36\u001b[39m\u001b[K"
     ]
    },
    {
     "name": "stderr",
     "output_type": "stream",
     "text": [
      "\r\u001b[32mProgress:   8%|████                                     |  ETA: 0:37:43\u001b[39m\u001b[K"
     ]
    },
    {
     "name": "stderr",
     "output_type": "stream",
     "text": [
      "\r\u001b[32mProgress:   9%|████                                     |  ETA: 0:56:04\u001b[39m\u001b[K"
     ]
    },
    {
     "name": "stderr",
     "output_type": "stream",
     "text": [
      "\r\u001b[32mProgress:  10%|█████                                    |  ETA: 1:11:20\u001b[39m\u001b[K"
     ]
    },
    {
     "name": "stderr",
     "output_type": "stream",
     "text": [
      "\r\u001b[32mProgress:   2%|█                                        |  ETA: 0:11:41\u001b[39m\u001b[K"
     ]
    },
    {
     "name": "stderr",
     "output_type": "stream",
     "text": [
      "\r\u001b[32mProgress:   3%|██                                       |  ETA: 0:12:51\u001b[39m\u001b[K"
     ]
    },
    {
     "name": "stderr",
     "output_type": "stream",
     "text": [
      "\r\u001b[32mProgress:   4%|██                                       |  ETA: 0:13:27\u001b[39m\u001b[K"
     ]
    },
    {
     "name": "stderr",
     "output_type": "stream",
     "text": [
      "\r\u001b[32mProgress:   5%|███                                      |  ETA: 0:15:43\u001b[39m\u001b[K"
     ]
    },
    {
     "name": "stderr",
     "output_type": "stream",
     "text": [
      "\r\u001b[32mProgress:   6%|███                                      |  ETA: 0:17:13\u001b[39m\u001b[K"
     ]
    },
    {
     "name": "stderr",
     "output_type": "stream",
     "text": [
      "\r\u001b[32mProgress:   7%|███                                      |  ETA: 0:28:14\u001b[39m\u001b[K"
     ]
    },
    {
     "name": "stderr",
     "output_type": "stream",
     "text": [
      "\r\u001b[32mProgress:   8%|████                                     |  ETA: 0:36:13\u001b[39m\u001b[K"
     ]
    },
    {
     "name": "stderr",
     "output_type": "stream",
     "text": [
      "\r\u001b[32mProgress:   9%|████                                     |  ETA: 0:52:44\u001b[39m\u001b[K"
     ]
    },
    {
     "name": "stderr",
     "output_type": "stream",
     "text": [
      "\r\u001b[32mProgress:  10%|█████                                    |  ETA: 1:05:33\u001b[39m\u001b[K"
     ]
    },
    {
     "name": "stderr",
     "output_type": "stream",
     "text": [
      "\r\u001b[32mProgress:   2%|█                                        |  ETA: 0:14:15\u001b[39m\u001b[K"
     ]
    },
    {
     "name": "stderr",
     "output_type": "stream",
     "text": [
      "\r\u001b[32mProgress:   3%|██                                       |  ETA: 0:14:40\u001b[39m\u001b[K"
     ]
    },
    {
     "name": "stderr",
     "output_type": "stream",
     "text": [
      "\r\u001b[32mProgress:   4%|██                                       |  ETA: 0:14:48\u001b[39m\u001b[K"
     ]
    },
    {
     "name": "stderr",
     "output_type": "stream",
     "text": [
      "\r\u001b[32mProgress:   5%|███                                      |  ETA: 0:16:52\u001b[39m\u001b[K"
     ]
    },
    {
     "name": "stderr",
     "output_type": "stream",
     "text": [
      "\r\u001b[32mProgress:   6%|███                                      |  ETA: 0:18:09\u001b[39m\u001b[K"
     ]
    },
    {
     "name": "stderr",
     "output_type": "stream",
     "text": [
      "\r\u001b[32mProgress:   7%|███                                      |  ETA: 0:28:54\u001b[39m\u001b[K"
     ]
    },
    {
     "name": "stderr",
     "output_type": "stream",
     "text": [
      "\r\u001b[32mProgress:   8%|████                                     |  ETA: 0:36:47\u001b[39m\u001b[K"
     ]
    },
    {
     "name": "stderr",
     "output_type": "stream",
     "text": [
      "\r\u001b[32mProgress:   9%|████                                     |  ETA: 0:53:03\u001b[39m\u001b[K"
     ]
    },
    {
     "name": "stderr",
     "output_type": "stream",
     "text": [
      "\r\u001b[32mProgress:  10%|█████                                    |  ETA: 1:05:46\u001b[39m\u001b[K"
     ]
    },
    {
     "name": "stderr",
     "output_type": "stream",
     "text": [
      "\r\u001b[32mProgress:   2%|█                                        |  ETA: 0:11:59\u001b[39m\u001b[K"
     ]
    },
    {
     "name": "stderr",
     "output_type": "stream",
     "text": [
      "\r\u001b[32mProgress:   3%|██                                       |  ETA: 0:13:02\u001b[39m\u001b[K"
     ]
    },
    {
     "name": "stderr",
     "output_type": "stream",
     "text": [
      "\r\u001b[32mProgress:   4%|██                                       |  ETA: 0:13:29\u001b[39m\u001b[K"
     ]
    },
    {
     "name": "stderr",
     "output_type": "stream",
     "text": [
      "\r\u001b[32mProgress:   5%|███                                      |  ETA: 0:15:47\u001b[39m\u001b[K"
     ]
    },
    {
     "name": "stderr",
     "output_type": "stream",
     "text": [
      "\r\u001b[32mProgress:   6%|███                                      |  ETA: 0:17:19\u001b[39m\u001b[K"
     ]
    },
    {
     "name": "stderr",
     "output_type": "stream",
     "text": [
      "\r\u001b[32mProgress:   7%|███                                      |  ETA: 0:28:10\u001b[39m\u001b[K"
     ]
    },
    {
     "name": "stderr",
     "output_type": "stream",
     "text": [
      "\r\u001b[32mProgress:   8%|████                                     |  ETA: 0:36:09\u001b[39m\u001b[K"
     ]
    },
    {
     "name": "stderr",
     "output_type": "stream",
     "text": [
      "\r\u001b[32mProgress:   9%|████                                     |  ETA: 0:49:50\u001b[39m\u001b[K"
     ]
    },
    {
     "name": "stderr",
     "output_type": "stream",
     "text": [
      "\r\u001b[32mProgress:  10%|█████                                    |  ETA: 1:04:43\u001b[39m\u001b[K"
     ]
    },
    {
     "name": "stderr",
     "output_type": "stream",
     "text": [
      "\r\u001b[32mProgress:   2%|█                                        |  ETA: 0:12:27\u001b[39m\u001b[K"
     ]
    },
    {
     "name": "stderr",
     "output_type": "stream",
     "text": [
      "\r\u001b[32mProgress:   3%|██                                       |  ETA: 0:13:18\u001b[39m\u001b[K"
     ]
    },
    {
     "name": "stderr",
     "output_type": "stream",
     "text": [
      "\r\u001b[32mProgress:   4%|██                                       |  ETA: 0:13:48\u001b[39m\u001b[K"
     ]
    },
    {
     "name": "stderr",
     "output_type": "stream",
     "text": [
      "\r\u001b[32mProgress:   5%|███                                      |  ETA: 0:16:03\u001b[39m\u001b[K"
     ]
    },
    {
     "name": "stderr",
     "output_type": "stream",
     "text": [
      "\r\u001b[32mProgress:   6%|███                                      |  ETA: 0:17:26\u001b[39m\u001b[K"
     ]
    },
    {
     "name": "stderr",
     "output_type": "stream",
     "text": [
      "\r\u001b[32mProgress:   7%|███                                      |  ETA: 0:28:21\u001b[39m\u001b[K"
     ]
    },
    {
     "name": "stderr",
     "output_type": "stream",
     "text": [
      "\r\u001b[32mProgress:   8%|████                                     |  ETA: 0:36:13\u001b[39m\u001b[K"
     ]
    },
    {
     "name": "stderr",
     "output_type": "stream",
     "text": [
      "\r\u001b[32mProgress:   9%|████                                     |  ETA: 0:51:25\u001b[39m\u001b[K"
     ]
    },
    {
     "name": "stderr",
     "output_type": "stream",
     "text": [
      "\r\u001b[32mProgress:  10%|█████                                    |  ETA: 1:03:30\u001b[39m\u001b[K"
     ]
    },
    {
     "name": "stderr",
     "output_type": "stream",
     "text": [
      "\r\u001b[32mProgress:   2%|█                                        |  ETA: 0:12:01\u001b[39m\u001b[K"
     ]
    },
    {
     "name": "stderr",
     "output_type": "stream",
     "text": [
      "\r\u001b[32mProgress:   3%|██                                       |  ETA: 0:13:01\u001b[39m\u001b[K"
     ]
    },
    {
     "name": "stderr",
     "output_type": "stream",
     "text": [
      "\r\u001b[32mProgress:   4%|██                                       |  ETA: 0:13:25\u001b[39m\u001b[K"
     ]
    },
    {
     "name": "stderr",
     "output_type": "stream",
     "text": [
      "\r\u001b[32mProgress:   5%|███                                      |  ETA: 0:15:51\u001b[39m\u001b[K"
     ]
    },
    {
     "name": "stderr",
     "output_type": "stream",
     "text": [
      "\r\u001b[32mProgress:   6%|███                                      |  ETA: 0:17:21\u001b[39m\u001b[K"
     ]
    },
    {
     "name": "stderr",
     "output_type": "stream",
     "text": [
      "\r\u001b[32mProgress:   7%|███                                      |  ETA: 0:28:10\u001b[39m\u001b[K"
     ]
    },
    {
     "name": "stderr",
     "output_type": "stream",
     "text": [
      "\r\u001b[32mProgress:   8%|████                                     |  ETA: 0:35:57\u001b[39m\u001b[K"
     ]
    },
    {
     "name": "stderr",
     "output_type": "stream",
     "text": [
      "\r\u001b[32mProgress:   9%|████                                     |  ETA: 0:50:57\u001b[39m\u001b[K"
     ]
    },
    {
     "name": "stderr",
     "output_type": "stream",
     "text": [
      "\r\u001b[32mProgress:  10%|█████                                    |  ETA: 1:03:02\u001b[39m\u001b[K"
     ]
    },
    {
     "name": "stderr",
     "output_type": "stream",
     "text": [
      "\r\u001b[32mProgress:   2%|█                                        |  ETA: 0:12:47\u001b[39m\u001b[K"
     ]
    },
    {
     "name": "stderr",
     "output_type": "stream",
     "text": [
      "\r\u001b[32mProgress:   3%|██                                       |  ETA: 0:13:28\u001b[39m\u001b[K"
     ]
    },
    {
     "name": "stderr",
     "output_type": "stream",
     "text": [
      "\r\u001b[32mProgress:   4%|██                                       |  ETA: 0:14:00\u001b[39m\u001b[K"
     ]
    },
    {
     "name": "stderr",
     "output_type": "stream",
     "text": [
      "\r\u001b[32mProgress:   5%|███                                      |  ETA: 0:16:10\u001b[39m\u001b[K"
     ]
    },
    {
     "name": "stderr",
     "output_type": "stream",
     "text": [
      "\r\u001b[32mProgress:   6%|███                                      |  ETA: 0:17:40\u001b[39m\u001b[K"
     ]
    },
    {
     "name": "stderr",
     "output_type": "stream",
     "text": [
      "\r\u001b[32mProgress:   7%|███                                      |  ETA: 0:28:32\u001b[39m\u001b[K"
     ]
    },
    {
     "name": "stderr",
     "output_type": "stream",
     "text": [
      "\r\u001b[32mProgress:   8%|████                                     |  ETA: 0:36:23\u001b[39m\u001b[K"
     ]
    },
    {
     "name": "stderr",
     "output_type": "stream",
     "text": [
      "\r\u001b[32mProgress:   9%|████                                     |  ETA: 0:50:09\u001b[39m\u001b[K"
     ]
    },
    {
     "name": "stderr",
     "output_type": "stream",
     "text": [
      "\r\u001b[32mProgress:  10%|█████                                    |  ETA: 1:02:23\u001b[39m\u001b[K"
     ]
    },
    {
     "name": "stderr",
     "output_type": "stream",
     "text": [
      "\r\u001b[32mProgress:   2%|█                                        |  ETA: 0:12:14\u001b[39m\u001b[K"
     ]
    },
    {
     "name": "stderr",
     "output_type": "stream",
     "text": [
      "\r\u001b[32mProgress:   3%|██                                       |  ETA: 0:13:16\u001b[39m\u001b[K"
     ]
    },
    {
     "name": "stderr",
     "output_type": "stream",
     "text": [
      "\r\u001b[32mProgress:   4%|██                                       |  ETA: 0:13:42\u001b[39m\u001b[K"
     ]
    },
    {
     "name": "stderr",
     "output_type": "stream",
     "text": [
      "\r\u001b[32mProgress:   5%|███                                      |  ETA: 0:15:59\u001b[39m\u001b[K"
     ]
    },
    {
     "name": "stderr",
     "output_type": "stream",
     "text": [
      "\r\u001b[32mProgress:   6%|███                                      |  ETA: 0:17:29\u001b[39m\u001b[K"
     ]
    },
    {
     "name": "stderr",
     "output_type": "stream",
     "text": [
      "\r\u001b[32mProgress:   7%|███                                      |  ETA: 0:28:26\u001b[39m\u001b[K"
     ]
    },
    {
     "name": "stderr",
     "output_type": "stream",
     "text": [
      "\r\u001b[32mProgress:   8%|████                                     |  ETA: 0:36:27\u001b[39m\u001b[K"
     ]
    },
    {
     "name": "stderr",
     "output_type": "stream",
     "text": [
      "\r\u001b[32mProgress:   9%|████                                     |  ETA: 0:50:25\u001b[39m\u001b[K"
     ]
    },
    {
     "name": "stderr",
     "output_type": "stream",
     "text": [
      "\r\u001b[32mProgress:  10%|█████                                    |  ETA: 1:02:21\u001b[39m\u001b[K"
     ]
    },
    {
     "name": "stderr",
     "output_type": "stream",
     "text": [
      "\r\u001b[32mProgress:   2%|█                                        |  ETA: 0:11:55\u001b[39m\u001b[K"
     ]
    },
    {
     "name": "stderr",
     "output_type": "stream",
     "text": [
      "\r\u001b[32mProgress:   3%|██                                       |  ETA: 0:13:07\u001b[39m\u001b[K"
     ]
    },
    {
     "name": "stderr",
     "output_type": "stream",
     "text": [
      "\r\u001b[32mProgress:   4%|██                                       |  ETA: 0:13:41\u001b[39m\u001b[K"
     ]
    },
    {
     "name": "stderr",
     "output_type": "stream",
     "text": [
      "\r\u001b[32mProgress:   5%|███                                      |  ETA: 0:15:59\u001b[39m\u001b[K"
     ]
    },
    {
     "name": "stderr",
     "output_type": "stream",
     "text": [
      "\r\u001b[32mProgress:   6%|███                                      |  ETA: 0:17:25\u001b[39m\u001b[K"
     ]
    },
    {
     "name": "stderr",
     "output_type": "stream",
     "text": [
      "\r\u001b[32mProgress:   7%|███                                      |  ETA: 0:28:14\u001b[39m\u001b[K"
     ]
    },
    {
     "name": "stderr",
     "output_type": "stream",
     "text": [
      "\r\u001b[32mProgress:   8%|████                                     |  ETA: 0:36:13\u001b[39m\u001b[K"
     ]
    },
    {
     "name": "stderr",
     "output_type": "stream",
     "text": [
      "\r\u001b[32mProgress:   9%|████                                     |  ETA: 0:48:57\u001b[39m\u001b[K"
     ]
    },
    {
     "name": "stderr",
     "output_type": "stream",
     "text": [
      "\r\u001b[32mProgress:  10%|█████                                    |  ETA: 1:02:14\u001b[39m\u001b[K"
     ]
    },
    {
     "name": "stderr",
     "output_type": "stream",
     "text": [
      "\r\u001b[32mProgress:   2%|█                                        |  ETA: 0:11:58\u001b[39m\u001b[K"
     ]
    },
    {
     "name": "stderr",
     "output_type": "stream",
     "text": [
      "\r\u001b[32mProgress:   3%|██                                       |  ETA: 0:12:56\u001b[39m\u001b[K"
     ]
    },
    {
     "name": "stderr",
     "output_type": "stream",
     "text": [
      "\r\u001b[32mProgress:   4%|██                                       |  ETA: 0:13:26\u001b[39m\u001b[K"
     ]
    },
    {
     "name": "stderr",
     "output_type": "stream",
     "text": [
      "\r\u001b[32mProgress:   5%|███                                      |  ETA: 0:15:43\u001b[39m\u001b[K"
     ]
    },
    {
     "name": "stderr",
     "output_type": "stream",
     "text": [
      "\r\u001b[32mProgress:   6%|███                                      |  ETA: 0:17:23\u001b[39m\u001b[K"
     ]
    },
    {
     "name": "stderr",
     "output_type": "stream",
     "text": [
      "\r\u001b[32mProgress:   7%|███                                      |  ETA: 0:28:21\u001b[39m\u001b[K"
     ]
    },
    {
     "name": "stderr",
     "output_type": "stream",
     "text": [
      "\r\u001b[32mProgress:   8%|████                                     |  ETA: 0:36:19\u001b[39m\u001b[K"
     ]
    },
    {
     "name": "stderr",
     "output_type": "stream",
     "text": [
      "\r\u001b[32mProgress:   9%|████                                     |  ETA: 0:49:55\u001b[39m\u001b[K"
     ]
    },
    {
     "name": "stderr",
     "output_type": "stream",
     "text": [
      "\r\u001b[32mProgress:  10%|█████                                    |  ETA: 1:01:31\u001b[39m\u001b[K"
     ]
    },
    {
     "data": {
      "text/plain": [
       "([1.0 -0.06596693726269424 -0.43940941542157247; 1.0 0.06061751439807478 0.40071884716215683; … ; 1.0 0.1287424584668871 0.413839825384029; 1.0 0.40272710006569407 -0.38737852546321516], [1.0, 1.0, -1.0, -1.0, -1.0, -1.0, 1.0, 1.0, 1.0, 1.0  …  1.0, 1.0, -1.0, -1.0, -1.0, -1.0, 1.0, -1.0, 1.0, 1.0], [0.4921875; 0.48046875; … ; 0.5546875; 0.5078125;;; 0.4765625; 0.3359375; … ; 0.56640625; 0.40234375;;; 0.390625; 0.46484375; … ; 0.54296875; 0.546875;;; 0.50390625; 0.46484375; … ; 0.55078125; 0.578125;;; 0.4765625; 0.48828125; … ; 0.55078125; 0.625;;;;], [0.55859375; 0.30078125; … ; 0.47265625; 0.546875;;; 0.5625; 0.39453125; … ; 0.47265625; 0.45703125;;; 0.4921875; 0.453125; … ; 0.4765625; 0.5234375;;; 0.5078125; 0.46875; … ; 0.47265625; 0.51953125;;; 0.53125; 0.48828125; … ; 0.47265625; 0.51953125;;;;], [NaN; NaN; … ; NaN; NaN;;; NaN; NaN; … ; NaN; NaN;;; NaN; NaN; … ; NaN; NaN;;; NaN; NaN; … ; NaN; NaN;;; NaN; NaN; … ; NaN; NaN;;;;], [-0.0025289778477000386; -0.00114397545887776; … ; 0.01161844312152412; 0.002612728810169997;;; -0.003022986769299544; -0.004241592896234834; … ; 0.00999515800505169; -0.0023076817328454816;;; -0.004120584027218035; -0.004903502109294964; … ; 0.007696924588298341; 0.0010640789217407386;;; -0.005650514729743271; -0.005160058567160874; … ; 0.007211458679673186; 0.000980776627903284;;; -0.010548696715947837; -0.006721591832418691; … ; 0.005081912091391415; 0.0003287801044865301;;;;])"
      ]
     },
     "metadata": {},
     "output_type": "display_data"
    }
   ],
   "source": [
    "d = 3\n",
    "k = 4\n",
    "m = 500\n",
    "niter = 25000\n",
    "stepsize = 0.5\n",
    "n_trains = [32,64,128,256,512]\n",
    "n_test = 256\n",
    "repeats = 20\n",
    "save_name = \"experiment_ns\" * \"_\" * string(n_trains) * \"_niter\" * string(niter) * \"_dkm\" * string(d) * string(k) * string(m)  \n",
    "save_flag = false\n",
    "\n",
    "X_test, Y_test, loss_single, loss_both, max_margin_single, max_margin_both = experiment_ns(d, k, m, niter, stepsize, n_trains, n_test; repeats=repeats)"
   ]
  },
  {
   "cell_type": "code",
   "execution_count": 139,
   "metadata": {},
   "outputs": [],
   "source": [
    "using DelimitedFiles\n",
    "\n",
    "writedlm(\"experiment_ns_loss_single.csv\", loss_single, ',')\n",
    "writedlm(\"experiment_ns_loss_both.csv\", loss_both, ',')\n",
    "writedlm(\"experiment_ns_max_margin_single.csv\", max_margin_single, ',')\n",
    "writedlm(\"experiment_ns_max_margin_both.csv\", max_margin_both, ',')"
   ]
  },
  {
   "cell_type": "code",
   "execution_count": 140,
   "metadata": {},
   "outputs": [
    {
     "data": {
      "image/png": "[encoded data removed]",
      "text/plain": [
       "Figure(PyObject <Figure size 1000x500 with 2 Axes>)"
      ]
     },
     "metadata": {},
     "output_type": "display_data"
    }
   ],
   "source": [
    "save_flag = true\n",
    "PyPlot.clf()\n",
    "tight_layout()\n",
    "fig = PyPlot.figure(\"experiment_ns\", figsize=(10,5))\n",
    "\n",
    "subplot(121)\n",
    "p1 = plot_data(X_test, Y_test, k; save_flag=false, name=\"experiment_ns_data_dist\")\n",
    "axis(\"tight\")\n",
    "PyPlot.title(\"data dist\")\n",
    "\n",
    "subplot(122)\n",
    "plot(n_trains, loss_single[:, 1, :, 1]', \"C0--\",alpha=0.2)\n",
    "plot(n_trains, loss_both[:, 1, :, 1]', \"C1--\",alpha=0.2)\n",
    "plot(n_trains, mean(loss_single[:,1,:,1], dims=1)[:], \"C0\", linewidth=4,label=\"single ouput layer\")\n",
    "plot(n_trains, mean(loss_both[:,1,:,1], dims=1)[:], \"C1\", linewidth=4,label=\"both layers\")\n",
    "axis(\"tight\")\n",
    "PyPlot.title(\"Performance as n increases\")\n",
    "PyPlot.xlabel(L\"n\", fontsize=10)\n",
    "PyPlot.ylabel(\"Test Error\", fontsize=10)\n",
    "PyPlot.legend();\n",
    "\n",
    "PyPlot.suptitle(\"\", y=1.12)\n",
    "if save_flag\n",
    "    savefig(save_name * \".pdf\", bbox_inches=\"tight\")\n",
    "end\n",
    "gcf()"
   ]
  },
  {
   "cell_type": "markdown",
   "metadata": {},
   "source": [
    "### Experiment 2 - Performance As d Increases"
   ]
  },
  {
   "cell_type": "code",
   "execution_count": 10,
   "metadata": {},
   "outputs": [
    {
     "data": {
      "text/plain": [
       "experiment_ds (generic function with 1 method)"
      ]
     },
     "metadata": {},
     "output_type": "display_data"
    }
   ],
   "source": [
    "function experiment_ds(ds, k, m, niter, stepsize, n_train, n_test; both_layers=[true, false], repeats=1, activation_function=relu_act)\n",
    "    loss_single = zeros(repeats, length(ds), 1, 1) # (repeats, no of ds, no of ns, no of ms)\n",
    "    loss_both = zeros(repeats, length(ds), 1, 1) # (repeats, no of ds, no of ns, no of ms)\n",
    "    max_margin_single = zeros(repeats, length(ds), 1, 1) # (repeats, no of ds, no of ns, no of ms)\n",
    "    max_margin_both = zeros(repeats, length(ds), 1, 1) # (repeats, no of ds, no of ns, no of ms)\n",
    "    loss_arrays = [loss_both, loss_single]\n",
    "    max_margins_arrays = [max_margin_both, max_margin_single]\n",
    "    \n",
    "    for repeat in 1:repeats\n",
    "        p = Progress(length(loss_both))\n",
    "        for i in 1:length(ds)\n",
    "            d = ds[i]\n",
    "            X_test, Y_test = get_X_Y(k, n_test; d=d)\n",
    "            X_train, Y_train = get_X_Y(k, n_train; d=d)\n",
    "            for (both, loss_array, max_margin_array) in zip(both_layers, loss_arrays, max_margins_arrays)\n",
    "                loss, max_margin = train_and_test_model(X_train, Y_train, \n",
    "                                    X_test, Y_test, \n",
    "                                    n_train, m, k, d, \n",
    "                                    n_test, niter, \n",
    "                                    stepsize, both; activation_function=activation_function)\n",
    "    \n",
    "                loss_array[repeat,i,1,1] = loss\n",
    "                max_margin_array[repeat,i,1,1] = max_margin\n",
    "                next!(p)\n",
    "            end\n",
    "        end\n",
    "    end\n",
    "    # return the latest X, Y distribution\n",
    "    return X_test, Y_test, loss_single, loss_both, max_margin_single, max_margin_both\n",
    "end"
   ]
  },
  {
   "cell_type": "code",
   "execution_count": 141,
   "metadata": {},
   "outputs": [
    {
     "name": "stderr",
     "output_type": "stream",
     "text": [
      "\r\u001b[32mProgress:   2%|█                                        |  ETA: 1:20:37\u001b[39m\u001b[K"
     ]
    },
    {
     "name": "stderr",
     "output_type": "stream",
     "text": [
      "\r\u001b[32mProgress:   3%|██                                       |  ETA: 1:20:17\u001b[39m\u001b[K"
     ]
    },
    {
     "name": "stderr",
     "output_type": "stream",
     "text": [
      "\r\u001b[32mProgress:   4%|██                                       |  ETA: 1:24:31\u001b[39m\u001b[K"
     ]
    },
    {
     "name": "stderr",
     "output_type": "stream",
     "text": [
      "\r\u001b[32mProgress:   5%|███                                      |  ETA: 1:25:31\u001b[39m\u001b[K"
     ]
    },
    {
     "name": "stderr",
     "output_type": "stream",
     "text": [
      "\r\u001b[32mProgress:   6%|███                                      |  ETA: 1:26:10\u001b[39m\u001b[K"
     ]
    },
    {
     "name": "stderr",
     "output_type": "stream",
     "text": [
      "\r\u001b[32mProgress:   7%|███                                      |  ETA: 1:27:09\u001b[39m\u001b[K"
     ]
    },
    {
     "name": "stderr",
     "output_type": "stream",
     "text": [
      "\r\u001b[32mProgress:   8%|████                                     |  ETA: 1:31:25\u001b[39m\u001b[K"
     ]
    },
    {
     "name": "stderr",
     "output_type": "stream",
     "text": [
      "\r\u001b[32mProgress:   9%|████                                     |  ETA: 1:33:26\u001b[39m\u001b[K"
     ]
    },
    {
     "name": "stderr",
     "output_type": "stream",
     "text": [
      "\r\u001b[32mProgress:  10%|█████                                    |  ETA: 1:34:29\u001b[39m\u001b[K"
     ]
    },
    {
     "name": "stderr",
     "output_type": "stream",
     "text": [
      "\r\u001b[32mProgress:   2%|█                                        |  ETA: 1:35:32\u001b[39m\u001b[K"
     ]
    },
    {
     "name": "stderr",
     "output_type": "stream",
     "text": [
      "\r\u001b[32mProgress:   3%|██                                       |  ETA: 1:31:10\u001b[39m\u001b[K"
     ]
    },
    {
     "name": "stderr",
     "output_type": "stream",
     "text": [
      "\r\u001b[32mProgress:   4%|██                                       |  ETA: 1:31:48\u001b[39m\u001b[K"
     ]
    },
    {
     "name": "stderr",
     "output_type": "stream",
     "text": [
      "\r\u001b[32mProgress:   5%|███                                      |  ETA: 1:30:57\u001b[39m\u001b[K"
     ]
    },
    {
     "name": "stderr",
     "output_type": "stream",
     "text": [
      "\r\u001b[32mProgress:   6%|███                                      |  ETA: 1:31:26\u001b[39m\u001b[K"
     ]
    },
    {
     "name": "stderr",
     "output_type": "stream",
     "text": [
      "\r\u001b[32mProgress:   7%|███                                      |  ETA: 1:30:47\u001b[39m\u001b[K"
     ]
    },
    {
     "name": "stderr",
     "output_type": "stream",
     "text": [
      "\r\u001b[32mProgress:   8%|████                                     |  ETA: 1:30:59\u001b[39m\u001b[K"
     ]
    },
    {
     "name": "stderr",
     "output_type": "stream",
     "text": [
      "\r\u001b[32mProgress:   9%|████                                     |  ETA: 1:30:15\u001b[39m\u001b[K"
     ]
    },
    {
     "name": "stderr",
     "output_type": "stream",
     "text": [
      "\r\u001b[32mProgress:  10%|█████                                    |  ETA: 1:29:20\u001b[39m\u001b[K"
     ]
    },
    {
     "name": "stderr",
     "output_type": "stream",
     "text": [
      "\r\u001b[32mProgress:   2%|█                                        |  ETA: 1:20:59\u001b[39m\u001b[K"
     ]
    },
    {
     "name": "stderr",
     "output_type": "stream",
     "text": [
      "\r\u001b[32mProgress:   3%|██                                       |  ETA: 1:17:18\u001b[39m\u001b[K"
     ]
    },
    {
     "name": "stderr",
     "output_type": "stream",
     "text": [
      "\r\u001b[32mProgress:   4%|██                                       |  ETA: 1:18:14\u001b[39m\u001b[K"
     ]
    },
    {
     "name": "stderr",
     "output_type": "stream",
     "text": [
      "\r\u001b[32mProgress:   5%|███                                      |  ETA: 1:17:52\u001b[39m\u001b[K"
     ]
    },
    {
     "name": "stderr",
     "output_type": "stream",
     "text": [
      "\r\u001b[32mProgress:   6%|███                                      |  ETA: 1:18:57\u001b[39m\u001b[K"
     ]
    },
    {
     "name": "stderr",
     "output_type": "stream",
     "text": [
      "\r\u001b[32mProgress:   7%|███                                      |  ETA: 1:19:10\u001b[39m\u001b[K"
     ]
    },
    {
     "name": "stderr",
     "output_type": "stream",
     "text": [
      "\r\u001b[32mProgress:   8%|████                                     |  ETA: 1:20:44\u001b[39m\u001b[K"
     ]
    },
    {
     "name": "stderr",
     "output_type": "stream",
     "text": [
      "\r\u001b[32mProgress:   9%|████                                     |  ETA: 1:21:32\u001b[39m\u001b[K"
     ]
    },
    {
     "name": "stderr",
     "output_type": "stream",
     "text": [
      "\r\u001b[32mProgress:  10%|█████                                    |  ETA: 1:23:20\u001b[39m\u001b[K"
     ]
    },
    {
     "name": "stderr",
     "output_type": "stream",
     "text": [
      "\r\u001b[32mProgress:   2%|█                                        |  ETA: 1:30:08\u001b[39m\u001b[K"
     ]
    },
    {
     "name": "stderr",
     "output_type": "stream",
     "text": [
      "\r\u001b[32mProgress:   3%|██                                       |  ETA: 1:24:34\u001b[39m\u001b[K"
     ]
    },
    {
     "name": "stderr",
     "output_type": "stream",
     "text": [
      "\r\u001b[32mProgress:   4%|██                                       |  ETA: 1:25:13\u001b[39m\u001b[K"
     ]
    },
    {
     "name": "stderr",
     "output_type": "stream",
     "text": [
      "\r\u001b[32mProgress:   5%|███                                      |  ETA: 1:24:16\u001b[39m\u001b[K"
     ]
    },
    {
     "name": "stderr",
     "output_type": "stream",
     "text": [
      "\r\u001b[32mProgress:   6%|███                                      |  ETA: 1:25:04\u001b[39m\u001b[K"
     ]
    },
    {
     "name": "stderr",
     "output_type": "stream",
     "text": [
      "\r\u001b[32mProgress:   7%|███                                      |  ETA: 1:24:31\u001b[39m\u001b[K"
     ]
    },
    {
     "name": "stderr",
     "output_type": "stream",
     "text": [
      "\r\u001b[32mProgress:   8%|████                                     |  ETA: 1:25:10\u001b[39m\u001b[K"
     ]
    },
    {
     "name": "stderr",
     "output_type": "stream",
     "text": [
      "\r\u001b[32mProgress:   9%|████                                     |  ETA: 1:24:56\u001b[39m\u001b[K"
     ]
    },
    {
     "name": "stderr",
     "output_type": "stream",
     "text": [
      "\r\u001b[32mProgress:  10%|█████                                    |  ETA: 1:24:11\u001b[39m\u001b[K"
     ]
    },
    {
     "name": "stderr",
     "output_type": "stream",
     "text": [
      "\r\u001b[32mProgress:   2%|█                                        |  ETA: 1:19:21\u001b[39m\u001b[K"
     ]
    },
    {
     "name": "stderr",
     "output_type": "stream",
     "text": [
      "\r\u001b[32mProgress:   3%|██                                       |  ETA: 1:17:23\u001b[39m\u001b[K"
     ]
    },
    {
     "name": "stderr",
     "output_type": "stream",
     "text": [
      "\r\u001b[32mProgress:   4%|██                                       |  ETA: 1:18:49\u001b[39m\u001b[K"
     ]
    },
    {
     "name": "stderr",
     "output_type": "stream",
     "text": [
      "\r\u001b[32mProgress:   5%|███                                      |  ETA: 1:18:25\u001b[39m\u001b[K"
     ]
    },
    {
     "name": "stderr",
     "output_type": "stream",
     "text": [
      "\r\u001b[32mProgress:   6%|███                                      |  ETA: 1:19:29\u001b[39m\u001b[K"
     ]
    },
    {
     "name": "stderr",
     "output_type": "stream",
     "text": [
      "\r\u001b[32mProgress:   7%|███                                      |  ETA: 1:21:22\u001b[39m\u001b[K"
     ]
    },
    {
     "name": "stderr",
     "output_type": "stream",
     "text": [
      "\r\u001b[32mProgress:   8%|████                                     |  ETA: 1:23:57\u001b[39m\u001b[K"
     ]
    },
    {
     "name": "stderr",
     "output_type": "stream",
     "text": [
      "\r\u001b[32mProgress:   9%|████                                     |  ETA: 1:24:59\u001b[39m\u001b[K"
     ]
    },
    {
     "name": "stderr",
     "output_type": "stream",
     "text": [
      "\r\u001b[32mProgress:  10%|█████                                    |  ETA: 1:25:29\u001b[39m\u001b[K"
     ]
    },
    {
     "name": "stderr",
     "output_type": "stream",
     "text": [
      "\r\u001b[32mProgress:   2%|█                                        |  ETA: 1:24:18\u001b[39m\u001b[K"
     ]
    },
    {
     "name": "stderr",
     "output_type": "stream",
     "text": [
      "\r\u001b[32mProgress:   3%|██                                       |  ETA: 1:21:31\u001b[39m\u001b[K"
     ]
    },
    {
     "name": "stderr",
     "output_type": "stream",
     "text": [
      "\r\u001b[32mProgress:   4%|██                                       |  ETA: 1:21:40\u001b[39m\u001b[K"
     ]
    },
    {
     "name": "stderr",
     "output_type": "stream",
     "text": [
      "\r\u001b[32mProgress:   5%|███                                      |  ETA: 1:21:09\u001b[39m\u001b[K"
     ]
    },
    {
     "name": "stderr",
     "output_type": "stream",
     "text": [
      "\r\u001b[32mProgress:   6%|███                                      |  ETA: 1:22:07\u001b[39m\u001b[K"
     ]
    },
    {
     "name": "stderr",
     "output_type": "stream",
     "text": [
      "\r\u001b[32mProgress:   7%|███                                      |  ETA: 1:21:52\u001b[39m\u001b[K"
     ]
    },
    {
     "name": "stderr",
     "output_type": "stream",
     "text": [
      "\r\u001b[32mProgress:   8%|████                                     |  ETA: 1:22:30\u001b[39m\u001b[K"
     ]
    },
    {
     "name": "stderr",
     "output_type": "stream",
     "text": [
      "\r\u001b[32mProgress:   9%|████                                     |  ETA: 1:21:59\u001b[39m\u001b[K"
     ]
    },
    {
     "name": "stderr",
     "output_type": "stream",
     "text": [
      "\r\u001b[32mProgress:  10%|█████                                    |  ETA: 1:21:24\u001b[39m\u001b[K"
     ]
    },
    {
     "name": "stderr",
     "output_type": "stream",
     "text": [
      "\r\u001b[32mProgress:   2%|█                                        |  ETA: 1:19:04\u001b[39m\u001b[K"
     ]
    },
    {
     "name": "stderr",
     "output_type": "stream",
     "text": [
      "\r\u001b[32mProgress:   3%|██                                       |  ETA: 1:16:35\u001b[39m\u001b[K"
     ]
    },
    {
     "name": "stderr",
     "output_type": "stream",
     "text": [
      "\r\u001b[32mProgress:   4%|██                                       |  ETA: 1:17:32\u001b[39m\u001b[K"
     ]
    },
    {
     "name": "stderr",
     "output_type": "stream",
     "text": [
      "\r\u001b[32mProgress:   5%|███                                      |  ETA: 1:18:06\u001b[39m\u001b[K"
     ]
    },
    {
     "name": "stderr",
     "output_type": "stream",
     "text": [
      "\r\u001b[32mProgress:   6%|███                                      |  ETA: 1:19:40\u001b[39m\u001b[K"
     ]
    },
    {
     "name": "stderr",
     "output_type": "stream",
     "text": [
      "\r\u001b[32mProgress:   7%|███                                      |  ETA: 1:22:06\u001b[39m\u001b[K"
     ]
    },
    {
     "name": "stderr",
     "output_type": "stream",
     "text": [
      "\r\u001b[32mProgress:   8%|████                                     |  ETA: 1:35:18\u001b[39m\u001b[K"
     ]
    },
    {
     "name": "stderr",
     "output_type": "stream",
     "text": [
      "\r\u001b[32mProgress:   9%|████                                     |  ETA: 1:40:11\u001b[39m\u001b[K"
     ]
    },
    {
     "name": "stderr",
     "output_type": "stream",
     "text": [
      "\r\u001b[32mProgress:  10%|█████                                    |  ETA: 1:41:28\u001b[39m\u001b[K"
     ]
    },
    {
     "name": "stderr",
     "output_type": "stream",
     "text": [
      "\r\u001b[32mProgress:   2%|█                                        |  ETA: 1:37:17\u001b[39m\u001b[K"
     ]
    },
    {
     "name": "stderr",
     "output_type": "stream",
     "text": [
      "\r\u001b[32mProgress:   3%|██                                       |  ETA: 1:31:39\u001b[39m\u001b[K"
     ]
    },
    {
     "name": "stderr",
     "output_type": "stream",
     "text": [
      "\r\u001b[32mProgress:   4%|██                                       |  ETA: 1:31:34\u001b[39m\u001b[K"
     ]
    },
    {
     "name": "stderr",
     "output_type": "stream",
     "text": [
      "\r\u001b[32mProgress:   5%|███                                      |  ETA: 1:31:37\u001b[39m\u001b[K"
     ]
    },
    {
     "name": "stderr",
     "output_type": "stream",
     "text": [
      "\r\u001b[32mProgress:   6%|███                                      |  ETA: 1:32:15\u001b[39m\u001b[K"
     ]
    },
    {
     "name": "stderr",
     "output_type": "stream",
     "text": [
      "\r\u001b[32mProgress:   7%|███                                      |  ETA: 1:32:44\u001b[39m\u001b[K"
     ]
    },
    {
     "name": "stderr",
     "output_type": "stream",
     "text": [
      "\r\u001b[32mProgress:   8%|████                                     |  ETA: 1:33:26\u001b[39m\u001b[K"
     ]
    },
    {
     "name": "stderr",
     "output_type": "stream",
     "text": [
      "\r\u001b[32mProgress:   9%|████                                     |  ETA: 1:33:00\u001b[39m\u001b[K"
     ]
    },
    {
     "name": "stderr",
     "output_type": "stream",
     "text": [
      "\r\u001b[32mProgress:  10%|█████                                    |  ETA: 1:32:42\u001b[39m\u001b[K"
     ]
    },
    {
     "name": "stderr",
     "output_type": "stream",
     "text": [
      "\r\u001b[32mProgress:   2%|█                                        |  ETA: 1:22:13\u001b[39m\u001b[K"
     ]
    },
    {
     "name": "stderr",
     "output_type": "stream",
     "text": [
      "\r\u001b[32mProgress:   3%|██                                       |  ETA: 1:17:42\u001b[39m\u001b[K"
     ]
    },
    {
     "name": "stderr",
     "output_type": "stream",
     "text": [
      "\r\u001b[32mProgress:   4%|██                                       |  ETA: 1:17:43\u001b[39m\u001b[K"
     ]
    },
    {
     "name": "stderr",
     "output_type": "stream",
     "text": [
      "\r\u001b[32mProgress:   5%|███                                      |  ETA: 1:16:40\u001b[39m\u001b[K"
     ]
    },
    {
     "name": "stderr",
     "output_type": "stream",
     "text": [
      "\r\u001b[32mProgress:   6%|███                                      |  ETA: 1:17:33\u001b[39m\u001b[K"
     ]
    },
    {
     "name": "stderr",
     "output_type": "stream",
     "text": [
      "\r\u001b[32mProgress:   7%|███                                      |  ETA: 1:17:25\u001b[39m\u001b[K"
     ]
    },
    {
     "name": "stderr",
     "output_type": "stream",
     "text": [
      "\r\u001b[32mProgress:   8%|████                                     |  ETA: 1:18:28\u001b[39m\u001b[K"
     ]
    },
    {
     "name": "stderr",
     "output_type": "stream",
     "text": [
      "\r\u001b[32mProgress:   9%|████                                     |  ETA: 1:18:42\u001b[39m\u001b[K"
     ]
    },
    {
     "name": "stderr",
     "output_type": "stream",
     "text": [
      "\r\u001b[32mProgress:  10%|█████                                    |  ETA: 1:18:23\u001b[39m\u001b[K"
     ]
    },
    {
     "name": "stderr",
     "output_type": "stream",
     "text": [
      "\r\u001b[32mProgress:   2%|█                                        |  ETA: 1:22:09\u001b[39m\u001b[K"
     ]
    },
    {
     "name": "stderr",
     "output_type": "stream",
     "text": [
      "\r\u001b[32mProgress:   3%|██                                       |  ETA: 1:19:46\u001b[39m\u001b[K"
     ]
    },
    {
     "name": "stderr",
     "output_type": "stream",
     "text": [
      "\r\u001b[32mProgress:   4%|██                                       |  ETA: 1:21:26\u001b[39m\u001b[K"
     ]
    },
    {
     "name": "stderr",
     "output_type": "stream",
     "text": [
      "\r\u001b[32mProgress:   5%|███                                      |  ETA: 1:21:02\u001b[39m\u001b[K"
     ]
    },
    {
     "name": "stderr",
     "output_type": "stream",
     "text": [
      "\r\u001b[32mProgress:   6%|███                                      |  ETA: 1:22:04\u001b[39m\u001b[K"
     ]
    },
    {
     "name": "stderr",
     "output_type": "stream",
     "text": [
      "\r\u001b[32mProgress:   7%|███                                      |  ETA: 1:21:30\u001b[39m\u001b[K"
     ]
    },
    {
     "name": "stderr",
     "output_type": "stream",
     "text": [
      "\r\u001b[32mProgress:   8%|████                                     |  ETA: 1:22:08\u001b[39m\u001b[K"
     ]
    },
    {
     "name": "stderr",
     "output_type": "stream",
     "text": [
      "\r\u001b[32mProgress:   9%|████                                     |  ETA: 1:21:47\u001b[39m\u001b[K"
     ]
    },
    {
     "name": "stderr",
     "output_type": "stream",
     "text": [
      "\r\u001b[32mProgress:  10%|█████                                    |  ETA: 1:21:05\u001b[39m\u001b[K"
     ]
    },
    {
     "name": "stderr",
     "output_type": "stream",
     "text": [
      "\r\u001b[32mProgress:   2%|█                                        |  ETA: 1:20:57\u001b[39m\u001b[K"
     ]
    },
    {
     "name": "stderr",
     "output_type": "stream",
     "text": [
      "\r\u001b[32mProgress:   3%|██                                       |  ETA: 1:17:04\u001b[39m\u001b[K"
     ]
    },
    {
     "name": "stderr",
     "output_type": "stream",
     "text": [
      "\r\u001b[32mProgress:   4%|██                                       |  ETA: 1:17:43\u001b[39m\u001b[K"
     ]
    },
    {
     "name": "stderr",
     "output_type": "stream",
     "text": [
      "\r\u001b[32mProgress:   5%|███                                      |  ETA: 1:16:45\u001b[39m\u001b[K"
     ]
    },
    {
     "name": "stderr",
     "output_type": "stream",
     "text": [
      "\r\u001b[32mProgress:   6%|███                                      |  ETA: 1:18:00\u001b[39m\u001b[K"
     ]
    },
    {
     "name": "stderr",
     "output_type": "stream",
     "text": [
      "\r\u001b[32mProgress:   7%|███                                      |  ETA: 1:18:08\u001b[39m\u001b[K"
     ]
    },
    {
     "name": "stderr",
     "output_type": "stream",
     "text": [
      "\r\u001b[32mProgress:   8%|████                                     |  ETA: 1:20:49\u001b[39m\u001b[K"
     ]
    },
    {
     "name": "stderr",
     "output_type": "stream",
     "text": [
      "\r\u001b[32mProgress:   9%|████                                     |  ETA: 1:21:39\u001b[39m\u001b[K"
     ]
    },
    {
     "name": "stderr",
     "output_type": "stream",
     "text": [
      "\r\u001b[32mProgress:  10%|█████                                    |  ETA: 1:21:58\u001b[39m\u001b[K"
     ]
    },
    {
     "name": "stderr",
     "output_type": "stream",
     "text": [
      "\r\u001b[32mProgress:   2%|█                                        |  ETA: 1:22:24\u001b[39m\u001b[K"
     ]
    },
    {
     "name": "stderr",
     "output_type": "stream",
     "text": [
      "\r\u001b[32mProgress:   3%|██                                       |  ETA: 1:17:31\u001b[39m\u001b[K"
     ]
    },
    {
     "name": "stderr",
     "output_type": "stream",
     "text": [
      "\r\u001b[32mProgress:   4%|██                                       |  ETA: 1:18:08\u001b[39m\u001b[K"
     ]
    },
    {
     "name": "stderr",
     "output_type": "stream",
     "text": [
      "\r\u001b[32mProgress:   5%|███                                      |  ETA: 1:17:56\u001b[39m\u001b[K"
     ]
    },
    {
     "name": "stderr",
     "output_type": "stream",
     "text": [
      "\r\u001b[32mProgress:   6%|███                                      |  ETA: 1:19:10\u001b[39m\u001b[K"
     ]
    },
    {
     "name": "stderr",
     "output_type": "stream",
     "text": [
      "\r\u001b[32mProgress:   7%|███                                      |  ETA: 1:18:37\u001b[39m\u001b[K"
     ]
    },
    {
     "name": "stderr",
     "output_type": "stream",
     "text": [
      "\r\u001b[32mProgress:   8%|████                                     |  ETA: 1:19:25\u001b[39m\u001b[K"
     ]
    },
    {
     "name": "stderr",
     "output_type": "stream",
     "text": [
      "\r\u001b[32mProgress:   9%|████                                     |  ETA: 1:19:08\u001b[39m\u001b[K"
     ]
    },
    {
     "name": "stderr",
     "output_type": "stream",
     "text": [
      "\r\u001b[32mProgress:  10%|█████                                    |  ETA: 1:18:43\u001b[39m\u001b[K"
     ]
    },
    {
     "name": "stderr",
     "output_type": "stream",
     "text": [
      "\r\u001b[32mProgress:   2%|█                                        |  ETA: 1:17:53\u001b[39m\u001b[K"
     ]
    },
    {
     "name": "stderr",
     "output_type": "stream",
     "text": [
      "\r\u001b[32mProgress:   3%|██                                       |  ETA: 1:17:20\u001b[39m\u001b[K"
     ]
    },
    {
     "name": "stderr",
     "output_type": "stream",
     "text": [
      "\r\u001b[32mProgress:   4%|██                                       |  ETA: 1:19:12\u001b[39m\u001b[K"
     ]
    },
    {
     "name": "stderr",
     "output_type": "stream",
     "text": [
      "\r\u001b[32mProgress:   5%|███                                      |  ETA: 1:21:22\u001b[39m\u001b[K"
     ]
    },
    {
     "name": "stderr",
     "output_type": "stream",
     "text": [
      "\r\u001b[32mProgress:   6%|███                                      |  ETA: 1:22:27\u001b[39m\u001b[K"
     ]
    },
    {
     "name": "stderr",
     "output_type": "stream",
     "text": [
      "\r\u001b[32mProgress:   7%|███                                      |  ETA: 1:23:14\u001b[39m\u001b[K"
     ]
    },
    {
     "name": "stderr",
     "output_type": "stream",
     "text": [
      "\r\u001b[32mProgress:   8%|████                                     |  ETA: 1:23:50\u001b[39m\u001b[K"
     ]
    },
    {
     "name": "stderr",
     "output_type": "stream",
     "text": [
      "\r\u001b[32mProgress:   9%|████                                     |  ETA: 1:24:43\u001b[39m\u001b[K"
     ]
    },
    {
     "name": "stderr",
     "output_type": "stream",
     "text": [
      "\r\u001b[32mProgress:  10%|█████                                    |  ETA: 1:25:09\u001b[39m\u001b[K"
     ]
    },
    {
     "name": "stderr",
     "output_type": "stream",
     "text": [
      "\r\u001b[32mProgress:   2%|█                                        |  ETA: 1:17:59\u001b[39m\u001b[K"
     ]
    },
    {
     "name": "stderr",
     "output_type": "stream",
     "text": [
      "\r\u001b[32mProgress:   3%|██                                       |  ETA: 1:16:55\u001b[39m\u001b[K"
     ]
    },
    {
     "name": "stderr",
     "output_type": "stream",
     "text": [
      "\r\u001b[32mProgress:   4%|██                                       |  ETA: 1:17:20\u001b[39m\u001b[K"
     ]
    },
    {
     "name": "stderr",
     "output_type": "stream",
     "text": [
      "\r\u001b[32mProgress:   5%|███                                      |  ETA: 1:18:32\u001b[39m\u001b[K"
     ]
    },
    {
     "name": "stderr",
     "output_type": "stream",
     "text": [
      "\r\u001b[32mProgress:   6%|███                                      |  ETA: 1:19:35\u001b[39m\u001b[K"
     ]
    },
    {
     "name": "stderr",
     "output_type": "stream",
     "text": [
      "\r\u001b[32mProgress:   7%|███                                      |  ETA: 1:20:51\u001b[39m\u001b[K"
     ]
    },
    {
     "name": "stderr",
     "output_type": "stream",
     "text": [
      "\r\u001b[32mProgress:   8%|████                                     |  ETA: 1:21:20\u001b[39m\u001b[K"
     ]
    },
    {
     "name": "stderr",
     "output_type": "stream",
     "text": [
      "\r\u001b[32mProgress:   9%|████                                     |  ETA: 1:22:04\u001b[39m\u001b[K"
     ]
    },
    {
     "name": "stderr",
     "output_type": "stream",
     "text": [
      "\r\u001b[32mProgress:  10%|█████                                    |  ETA: 1:21:07\u001b[39m\u001b[K"
     ]
    }
   ],
   "source": [
    "ds = [5, 10, 15, 20, 25]\n",
    "k = 4\n",
    "m = 500\n",
    "niter = 20000\n",
    "stepsize = 0.5\n",
    "n_train = 256\n",
    "n_test = 256\n",
    "repeats = 20\n",
    "save_name = \"experiment_ds\" * \"_\" * string(ds) * \"_niter\" * string(niter) * \"_km\" * string(k) * string(m)\n",
    "save_flag = true\n",
    "\n",
    "X_test, Y_test, loss_single, loss_both, max_margin_single, max_margin_both = experiment_ds(ds, k, m, niter, stepsize, n_train, n_test; repeats=repeats)"
   ]
  },
  {
   "cell_type": "code",
   "execution_count": null,
   "metadata": {},
   "outputs": [],
   "source": [
    "PyPlot.clf()\n",
    "tight_layout()\n",
    "fig = PyPlot.figure(\"experiment_ds\", figsize=(10,5))\n",
    "\n",
    "subplot(121)\n",
    "p1 = plot_data(X_test, Y_test, k; save_flag=false, name=\"experiment_ds_data_dist\")\n",
    "axis(\"tight\")\n",
    "PyPlot.title(\"data dist\")\n",
    "\n",
    "subplot(122)\n",
    "plot(ds, loss_single[:, :, 1, 1]', \"C0--\",alpha=0.2)\n",
    "plot(ds, loss_both[:, :, 1, 1]', \"C1--\",alpha=0.2)\n",
    "plot(ds, mean(loss_single[:, :, 1, 1], dims=1)[:], \"C0\", linewidth=4,label=\"single ouput layer\")\n",
    "plot(ds, mean(loss_both[:, :, 1, 1], dims=1)[:], \"C1\", linewidth=4,label=\"both layers\")\n",
    "axis(\"tight\")\n",
    "PyPlot.title(\"Performance as d increases\")\n",
    "PyPlot.xlabel(L\"d\", fontsize=15)\n",
    "PyPlot.ylabel(\"Test Error\", fontsize=15)\n",
    "\n",
    "PyPlot.suptitle(\"\", y=1.12)\n",
    "if save_flag\n",
    "    savefig(save_name * \".pdf\", bbox_inches=\"tight\")\n",
    "end\n",
    "gcf()"
   ]
  },
  {
   "cell_type": "markdown",
   "metadata": {},
   "source": [
    "### Experiment 3 - Performance As m Increases"
   ]
  },
  {
   "cell_type": "code",
   "execution_count": 11,
   "metadata": {},
   "outputs": [
    {
     "data": {
      "text/plain": [
       "experiment_ms (generic function with 1 method)"
      ]
     },
     "metadata": {},
     "output_type": "display_data"
    }
   ],
   "source": [
    "function experiment_ms(d, k, ms, niter, stepsize, n_train, n_test; both_layers=[true, false], repeats=1, activation_function=relu_act)\n",
    "    loss_single = zeros(repeats, 1, 1, length(ms)) # (repeats, no of ds, no of ns, no of ms)\n",
    "    loss_both = zeros(repeats, 1, 1, length(ms)) # (repeats, no of ds, no of ns, no of ms)\n",
    "    max_margin_single = zeros(repeats, 1, 1, length(ms)) # (repeats, no of ds, no of ns, no of ms)\n",
    "    max_margin_both = zeros(repeats, 1, 1, length(ms)) # (repeats, no of ds, no of ns, no of ms)\n",
    "    loss_arrays = [loss_both, loss_single]\n",
    "    max_margins_arrays = [max_margin_both, max_margin_single]\n",
    "    X_test, Y_test = get_X_Y(k, n_test; d=d)\n",
    "    X_train, Y_train = get_X_Y(k, n_train; d=d)\n",
    "    for repeat in 1:repeats\n",
    "        p = Progress(length(loss_both))\n",
    "        for i in 1:length(ms)\n",
    "            m = ms[i]\n",
    "            for (both, loss_array, max_margin_array) in zip(both_layers, loss_arrays, max_margins_arrays)\n",
    "                loss, max_margin = train_and_test_model(X_train, Y_train, \n",
    "                                    X_test, Y_test, \n",
    "                                    n_train, m, k, d, \n",
    "                                    n_test, niter, \n",
    "                                    stepsize, both; activation_function=activation_function)\n",
    "    \n",
    "                loss_array[repeat,1,1,i] = loss\n",
    "                max_margin_array[repeat,1,1,i] = max_margin\n",
    "                next!(p)\n",
    "            end\n",
    "        end\n",
    "    end\n",
    "    # return the latest X, Y distribution\n",
    "    return X_test, Y_test, loss_single, loss_both, max_margin_single, max_margin_both\n",
    "end"
   ]
  },
  {
   "cell_type": "code",
   "execution_count": 55,
   "metadata": {},
   "outputs": [
    {
     "name": "stderr",
     "output_type": "stream",
     "text": [
      "\r\u001b[32mProgress:  25%|███████████                              |  ETA: 0:00:01\u001b[39m\u001b[K"
     ]
    },
    {
     "name": "stderr",
     "output_type": "stream",
     "text": [
      "\r\u001b[32mProgress:  50%|█████████████████████                    |  ETA: 0:00:00\u001b[39m\u001b[K"
     ]
    },
    {
     "name": "stderr",
     "output_type": "stream",
     "text": [
      "\r\u001b[32mProgress:  75%|███████████████████████████████          |  ETA: 0:00:00\u001b[39m\u001b[K"
     ]
    },
    {
     "name": "stderr",
     "output_type": "stream",
     "text": [
      "\r\u001b[32mProgress: 100%|█████████████████████████████████████████| Time: 0:00:00\u001b[39m\u001b[K\n"
     ]
    },
    {
     "data": {
      "text/plain": [
       "([1.0 -0.1628406809903556 … 0.18202259971067425 -0.2933535938919153; 1.0 0.06189789381660088 … 0.2898492980132322 0.22845299483356518; … ; 1.0 -0.14216239400308775 … -0.016026316736378887 0.017466486527130454; 1.0 -0.11872399779438807 … 0.48606199371428926 0.2036063229863151], [-1.0, 1.0, -1.0, 1.0, -1.0, -1.0, -1.0, -1.0, 1.0, 1.0  …  1.0, -1.0, -1.0, 1.0, 1.0, -1.0, 1.0, 1.0, -1.0, -1.0], [0.0;;;; 0.0;;;; 0.0;;;; 0.0;;;; 0.0;;;; 0.0;;;; 0.0;;;; 0.0], [0.546;;;; 0.474;;;; 0.378;;;; 0.554;;;; 0.69;;;; 0.506;;;; 0.51;;;; 0.512], [NaN;;;; NaN;;;; NaN;;;; NaN;;;; NaN;;;; NaN;;;; NaN;;;; NaN], [-0.04057831195620328;;;; -0.022222855418040144;;;; -0.023560635402748;;;; -0.016133053942404846;;;; -0.01070507761322353;;;; -0.009457078568614606;;;; -0.005589159050855343;;;; -0.005567166416660014])"
      ]
     },
     "metadata": {},
     "output_type": "display_data"
    }
   ],
   "source": [
    "d = 15\n",
    "k = 4\n",
    "ms = [8,16,32,64,128,256,512,1024]\n",
    "niter = 1\n",
    "stepsize = 0.5\n",
    "n_train = 256\n",
    "n_test = 500\n",
    "repeats = 1\n",
    "save_name = \"experiment_ms\"\n",
    "save_flag = false\n",
    "\n",
    "X_test, Y_test, loss_single, loss_both, max_margin_single, max_margin_both = experiment_ms(d, k, ms, niter, stepsize, n_train, n_test; repeats=repeats)\n",
    "\n",
    "\n"
   ]
  },
  {
   "cell_type": "code",
   "execution_count": null,
   "metadata": {},
   "outputs": [],
   "source": [
    "using DelimitedFiles\n",
    "writedlm(\"experiment_ms_X_test.csv\", X_test, ',')\n",
    "writedlm(\"experiment_ms_Y_test.csv\", Y_test, ',')\n",
    "writedlm(\"experiment_ms_loss_single.csv\", loss_both, ',')\n",
    "writedlm(\"experiment_ms_loss_both.csv\", loss_both, ',')\n",
    "writedlm(\"experiment_ms_max_margin_single.csv\", max_margin_single, ',')\n",
    "writedlm(\"experiment_ms_max_margin_both.csv\", max_margin_both, ',')"
   ]
  },
  {
   "cell_type": "code",
   "execution_count": 56,
   "metadata": {},
   "outputs": [
    {
     "data": {
      "image/png": "[encoded data removed]",
      "text/plain": [
       "Figure(PyObject <Figure size 1000x500 with 3 Axes>)"
      ]
     },
     "metadata": {},
     "output_type": "display_data"
    }
   ],
   "source": [
    "PyPlot.clf()\n",
    "PyPlot.tight_layout()\n",
    "subplots_adjust(wspace=0.5)\n",
    "fig = PyPlot.figure(\"experiment_ms\", figsize=(10,5))\n",
    "\n",
    "subplot(131)\n",
    "p1 = plot_data(X_test, Y_test, k; save_flag=false, name=\"experiment_ms_data_dist\")\n",
    "\n",
    "PyPlot.title(\"data dist\")\n",
    "\n",
    "subplot(132)\n",
    "plot(ms, loss_single[:, 1, 1, :]', \"C0--\",alpha=0.2)\n",
    "plot(ms, loss_both[:, 1, 1, :]', \"C1--\",alpha=0.2)\n",
    "plot(ms, mean(loss_single[:, 1, 1, :], dims=1)[:], \"C0\", linewidth=1,label=\"single ouput layer\")\n",
    "plot(ms, mean(loss_both[:, 1, 1, :], dims=1)[:], \"C1\", linewidth=1,label=\"both layers\")\n",
    "\n",
    "PyPlot.title(\"Performance as m increases\")\n",
    "PyPlot.xlabel(L\"m\", fontsize=10)\n",
    "PyPlot.ylabel(L\"Test Error\", fontsize=10)\n",
    "\n",
    "subplot(133)\n",
    "semilogx(ms,max_margin_single[:,1,1,:]', \"+r\", alpha=0.2, label=\"single output layer\");\n",
    "semilogx(ms,max_margin_both[:,1,1,:]', \"+b\", alpha=0.2, label=\"both output layer\");\n",
    "semilogx(ms,sum(max_margin_single[:,1,1,:],dims=1)[:]/repeats,linewidth=1,\"r\");\n",
    "semilogx(ms,sum(max_margin_both[:,1,1,:],dims=1)[:]/repeats,linewidth=1,\"b\");\n",
    "\n",
    "PyPlot.title(\"F1 Margin vs m\")\n",
    "PyPlot.xlabel(L\"m\", fontsize=10)\n",
    "PyPlot.ylabel(L\"$\\mathcal{F}_1$ margin\", fontsize=10)\n",
    "\n",
    "\n",
    "PyPlot.suptitle(\"\", y=1.12)\n",
    "if save_flag\n",
    "    savefig(save_name * \".pdf\", bbox_inches=\"tight\")\n",
    "end\n",
    "gcf()"
   ]
  },
  {
   "cell_type": "markdown",
   "metadata": {},
   "source": [
    "## Experiment 4 - Change in Margins as niter increases"
   ]
  },
  {
   "cell_type": "markdown",
   "metadata": {},
   "source": [
    "Dynamics of the classifier while training both layers for an initialization with a large\n",
    "variance and a small initial step-size. The classifier first approaches the max-margin\n",
    "classifier for the tangent kernel (Jacot et al., 2018) (c) and eventually converges to the\n",
    "F1-max-margin (f).\n",
    "\n",
    "In Figure 3, we illustrate for d = 2 a case where two\n",
    "different kinds of implicit biases show up in a single dynamics (t is the number of iterations with a constant step-size). We initialize the ReLU network with a large variance (N(0; 402))."
   ]
  },
  {
   "cell_type": "code",
   "execution_count": 12,
   "metadata": {},
   "outputs": [
    {
     "data": {
      "text/plain": [
       "experiment_niters (generic function with 1 method)"
      ]
     },
     "metadata": {},
     "output_type": "display_data"
    }
   ],
   "source": [
    "function experiment_niters(d, k, m, niters, stepsize, n_train; both_layers=[true, false])\n",
    "    X_train, Y_train = get_X_Y(k, n_train; d=d)\n",
    "    weights_single = zeros(m, d+1, maximum(niters), length(niters)) # (m, d+1, the maximum number of iterations, how many niters that are being tried)\n",
    "    weights_both = zeros(m, d+1, maximum(niters), length(niters)) # (m, d+1, the maximum number of iterations, how many niters that are being tried)\n",
    "    weights_layers = [weights_single, weights_both]\n",
    "    for i in 1:length(niters)\n",
    "        for (both, weights_layer) in zip(both_layers, weights_layers)\n",
    "            niter = niters[i]\n",
    "            Ws, loss, margins, betas = train_network_given_X_Y(X_train, Y_train, m, niter; stepsize=stepsize, both=both)\n",
    "            weights_layer[:, :, 1:niter, i] = Ws\n",
    "        end\n",
    "    end\n",
    "\n",
    "    return X_train, Y_train, weights_single, weights_both\n",
    "end"
   ]
  },
  {
   "cell_type": "code",
   "execution_count": null,
   "metadata": {},
   "outputs": [],
   "source": [
    "d = 43\n",
    "k = 4\n",
    "m = 1000\n",
    "niters = [5, 10, 15, 20, 25]\n",
    "n_train = 500\n",
    "stepsize = 0.5\n",
    "\n",
    "X_train, Y_train, weights_single, weights_both = experiment_niters(d, k, m, niters, stepsize, n_train; both_layers=[true, false])"
   ]
  },
  {
   "cell_type": "code",
   "execution_count": 14,
   "metadata": {},
   "outputs": [
    {
     "data": {
      "text/plain": [
       "simple_plot_niters (generic function with 1 method)"
      ]
     },
     "metadata": {},
     "output_type": "display_data"
    }
   ],
   "source": [
    "function simple_plot_niters(d, k, m, niters, n_train, stepsize; save_flag=false, save_name=(\"experiment_niters_\"*string(niters)), both_layers=[true, false])\n",
    "    GC.gc()\n",
    "    X_train, Y_train = get_X_Y(k, n_train; d=d)\n",
    "    PyPlot.clf()\n",
    "    plot_data(X_train, Y_train, k; save_flag=true)\n",
    "    max_niter = maximum(niters)\n",
    "    \n",
    "    Ws_single, loss_single, margins_single, betas_single = train_network_given_X_Y(X_train, Y_train, m, max_niter; stepsize=stepsize, both=false)\n",
    "    Ws_both, loss_both, margins_both, betas_both = train_network_given_X_Y(X_train, Y_train, m, max_niter; stepsize=stepsize, both=true)\n",
    "\n",
    "    # single\n",
    "    PyPlot.clf()\n",
    "    tight_layout()\n",
    "    fig = PyPlot.figure(\"experiment_niters_single\", figsize=(20,5)) \n",
    "    for i in 1:length(niters)\n",
    "        subplot_number = 100 + (10*length(niters)) + i\n",
    "        subplot(subplot_number)\n",
    "        niter = niters[i]\n",
    "        p1 = plot_margins(X_train, Y_train, Ws_single[:, :, 1:niter])\n",
    "        PyPlot.title(\"niter = \" * string(niter))\n",
    "        GC.gc()\n",
    "    end\n",
    "    if save_flag\n",
    "        savefig(save_name * \"_single.pdf\", bbox_inches=\"tight\")\n",
    "    end\n",
    "\n",
    "    # both\n",
    "    PyPlot.clf()\n",
    "    tight_layout()\n",
    "    fig = PyPlot.figure(\"experiment_niters_both\", figsize=(20,5)) \n",
    "    for i in 1:length(niters)\n",
    "        subplot_number = 100 + (10*length(niters)) + i\n",
    "        subplot(subplot_number)\n",
    "        niter = niters[i]\n",
    "        p1 = plot_margins(X_train, Y_train, Ws_both[:, :, 1:niter])\n",
    "        PyPlot.title(\"niter = \" * string(niter))\n",
    "    end\n",
    "    if save_flag\n",
    "        savefig(save_name * \"_both.pdf\", bbox_inches=\"tight\")\n",
    "    end\n",
    "end"
   ]
  },
  {
   "cell_type": "code",
   "execution_count": 236,
   "metadata": {},
   "outputs": [],
   "source": [
    "d = 15\n",
    "k = 4\n",
    "m = 1000\n",
    "niters = [100, 500, 1000, 5000, 10000, 50000, 100000]\n",
    "# niters = [1,2,3,4]\n",
    "n_train = 256\n",
    "stepsize = 0.5\n",
    "save_flag = true \n",
    "for random_number in [20, 35, 7, 2, 101]\n",
    "    Random.seed!(random_number)\n",
    "    save_name = \"diagrams/experiment_niters_repeat4_\" * string(niters) * \"d_\" * string(d) * \"rand_\" * string(random_number)\n",
    "    simple_plot_niters(d, k, m, niters, n_train, stepsize; save_flag=save_flag, save_name=save_name)\n",
    "    GC.gc()\n",
    "end"
   ]
  },
  {
   "cell_type": "markdown",
   "metadata": {},
   "source": [
    "## Extension"
   ]
  },
  {
   "cell_type": "markdown",
   "metadata": {},
   "source": [
    "### Experiment 0 - Training Error as niter increases"
   ]
  },
  {
   "cell_type": "code",
   "execution_count": null,
   "metadata": {},
   "outputs": [
    {
     "data": {
      "text/plain": [
       "plot_training_loss_both (generic function with 1 method)"
      ]
     },
     "metadata": {},
     "output_type": "display_data"
    }
   ],
   "source": [
    "function plot_training_loss_single_both(d, k, m, niter, stepsize, n_train; both_layers=[true, false], activation_function=relu_act, save_flag=false, save_name=\"plot training error\")\n",
    "    X_train, Y_train = get_X_Y(k, n_train; d=d)\n",
    "    loss_single = zeros(size(1:100:niter))\n",
    "    loss_both = zeros(size(1:100:niter))\n",
    "    loss_layers = [loss_both, loss_single]\n",
    "    for (both_flag, loss_layer) in zip(both_layers, loss_layers)\n",
    "        Ws, loss, margins, betas = twonet(X_train, Y_train, m, stepsize, niter; both=both_flag, activation_function=activation_function)\n",
    "        for i in 1:length(1:100:niter)\n",
    "            t = (1:100:niter)[i]\n",
    "            loss_layer[i] = calculate_loss(Ws, t, m, X_train, Y_train, n_train)\n",
    "        end\n",
    "    end\n",
    "    GC.gc()\n",
    "\n",
    "    PyPlot.clf()\n",
    "    # tight_layout()\n",
    "    fig = PyPlot.figure(\"experiment_training_error\", figsize=(10,5))\n",
    "\n",
    "    subplot(131)\n",
    "    p1 = plot_data(X_train, Y_train, k; save_flag=false, name=\"\")\n",
    "    # axis(\"tight\")\n",
    "    PyPlot.title(\"Data Dist\")\n",
    "\n",
    "    subplot(132)\n",
    "    plot((1:100:niter), loss_single, \"C0\", linewidth=2, label=\"single layer training loss\")\n",
    "    axis(\"tight\")\n",
    "    PyPlot.title(\"Training Loss of Single Layer\")\n",
    "    PyPlot.xlabel(L\"niter\", fontsize=10)\n",
    "    PyPlot.ylabel(\"Error\", fontsize=10)\n",
    "    PyPlot.legend(loc=\"upper center\");\n",
    "\n",
    "    subplot(133)\n",
    "    plot((1:100:niter), loss_both, \"C1\", linewidth=2, label=\"both layer training loss\")\n",
    "    axis(\"tight\")\n",
    "    PyPlot.title(\"Training Loss of Both Layers\")\n",
    "    PyPlot.xlabel(L\"niter\", fontsize=10)\n",
    "    PyPlot.ylabel(\"Error\", fontsize=10)\n",
    "    PyPlot.legend(loc=\"upper center\");\n",
    "\n",
    "    PyPlot.suptitle(\"\", y=1.12)\n",
    "    if save_flag\n",
    "        savefig(\"diagrams/\" * save_name * \".pdf\", bbox_inches=\"tight\")\n",
    "    end\n",
    "end\n",
    "\n",
    "function plot_training_loss_both(d, k, m, niter, stepsize, n_train; activation_function=relu_act, save_flag=false, save_name=\"plot training error both\")\n",
    "    X_train, Y_train = get_X_Y(k, n_train; d=d)\n",
    "    loss_both = zeros(size(1:100:niter))\n",
    "    Ws, loss, margins, betas = twonet(X_train, Y_train, m, stepsize, niter; both=true, activation_function=activation_function)\n",
    "    for i in 1:length(1:100:niter)\n",
    "        t = (1:100:niter)[i]\n",
    "        loss_both[i] = calculate_loss(Ws, t, m, X_train, Y_train, n_train)\n",
    "    end\n",
    "    GC.gc()\n",
    "    \n",
    "    PyPlot.clf()\n",
    "    # tight_layout()\n",
    "    fig = PyPlot.figure(\"experiment_training_error\", figsize=(10,5))\n",
    "\n",
    "    subplot(121)\n",
    "    p1 = plot_data(X_train, Y_train, k; save_flag=false, name=\"\")\n",
    "    # axis(\"tight\")\n",
    "    PyPlot.title(\"Data Dist\")\n",
    "\n",
    "    subplot(122)\n",
    "    plot((1:100:niter), loss_both, \"C1\", linewidth=2, label=\"both layer training loss\")\n",
    "    axis(\"tight\")\n",
    "    PyPlot.title(\"Training Loss of Both Layers\")\n",
    "    PyPlot.xlabel(L\"niter\", fontsize=10)\n",
    "    PyPlot.ylabel(\"Error\", fontsize=10)\n",
    "    PyPlot.legend(loc=\"upper center\");\n",
    "\n",
    "    PyPlot.suptitle(\"\", y=1.12)\n",
    "\n",
    "    \n",
    "    if save_flag\n",
    "        savefig(\"diagrams/\" * save_name * \".pdf\", bbox_inches=\"tight\")\n",
    "    end\n",
    "end\n"
   ]
  },
  {
   "cell_type": "code",
   "execution_count": null,
   "metadata": {},
   "outputs": [
    {
     "data": {
      "image/png": "[encoded data removed]",
      "text/plain": [
       "Figure(PyObject <Figure size 1000x500 with 3 Axes>)"
      ]
     },
     "metadata": {},
     "output_type": "display_data"
    }
   ],
   "source": [
    "d = 3\n",
    "k = 4\n",
    "m = 500\n",
    "niter = 50000\n",
    "stepsize = 0.5\n",
    "n_train = 256\n",
    "save_flag = true\n",
    "\n",
    "plot_training_loss_single_both(d, k, m, niter, stepsize, n_train; activation_function=relu_act, save_flag=save_flag, save_name=\"training_error_plot_single_both\")\n",
    "gcf()"
   ]
  },
  {
   "cell_type": "code",
   "execution_count": null,
   "metadata": {},
   "outputs": [
    {
     "data": {
      "image/png": "[encoded data removed]",
      "text/plain": [
       "Figure(PyObject <Figure size 1000x500 with 2 Axes>)"
      ]
     },
     "metadata": {},
     "output_type": "display_data"
    }
   ],
   "source": [
    "d = 3\n",
    "k = 4\n",
    "m = 500\n",
    "niter = 50000\n",
    "stepsize = 0.5\n",
    "n_train = 256\n",
    "save_flag = true\n",
    "plot_training_loss_both(d, k, m, niter, stepsize, n_train; activation_function=relu_act, save_flag=save_flag, save_name=\"training_error_plot_both\")\n",
    "gcf()"
   ]
  },
  {
   "cell_type": "markdown",
   "metadata": {},
   "source": [
    "### Experiment Activations"
   ]
  },
  {
   "cell_type": "markdown",
   "metadata": {},
   "source": [
    "#### ReLU"
   ]
  },
  {
   "cell_type": "code",
   "execution_count": 26,
   "metadata": {},
   "outputs": [
    {
     "name": "stderr",
     "output_type": "stream",
     "text": [
      "┌ Warning: `vendor()` is deprecated, use `BLAS.get_config()` and inspect the output instead\n",
      "│   caller = npyinitialize() at numpy.jl:67\n",
      "└ @ PyCall C:\\Users\\Kevalee Shah\\.julia\\packages\\PyCall\\L0fLP\\src\\numpy.jl:67\n",
      "sys:1: UserWarning: No contour levels were found within the data range.\r\n",
      "sys:1: UserWarning: No contour levels were found within the data range.\r\n",
      "sys:1: UserWarning: No contour levels were found within the data range.\r\n",
      "sys:1: UserWarning: No contour levels were found within the data range.\r\n",
      "sys:1: UserWarning: No contour levels were found within the data range.\r\n"
     ]
    },
    {
     "data": {
      "text/plain": [
       "relu_act (generic function with 1 method)"
      ]
     },
     "metadata": {},
     "output_type": "display_data"
    }
   ],
   "source": [
    "function relu_act(x)\n",
    "    return max(x, 0)\n",
    "end"
   ]
  },
  {
   "cell_type": "markdown",
   "metadata": {},
   "source": [
    "#### ELU"
   ]
  },
  {
   "cell_type": "code",
   "execution_count": 27,
   "metadata": {},
   "outputs": [
    {
     "data": {
      "text/plain": [
       "elu_act (generic function with 1 method)"
      ]
     },
     "metadata": {},
     "output_type": "display_data"
    }
   ],
   "source": [
    "function elu_act(x; a=0.1)\n",
    "    if x<0\n",
    "        return a*(exp(x)-1)\n",
    "    else\n",
    "        return x\n",
    "    end\n",
    "end"
   ]
  },
  {
   "cell_type": "markdown",
   "metadata": {},
   "source": [
    "#### Leaky ReLU"
   ]
  },
  {
   "cell_type": "code",
   "execution_count": 28,
   "metadata": {},
   "outputs": [
    {
     "data": {
      "text/plain": [
       "leaky_relu_act (generic function with 1 method)"
      ]
     },
     "metadata": {},
     "output_type": "display_data"
    }
   ],
   "source": [
    "function leaky_relu_act(x)\n",
    "    if x<0\n",
    "        return 0.01*x\n",
    "    else\n",
    "        return x\n",
    "    end\n",
    "end"
   ]
  },
  {
   "cell_type": "markdown",
   "metadata": {},
   "source": [
    "#### Sigmoid"
   ]
  },
  {
   "cell_type": "code",
   "execution_count": 29,
   "metadata": {},
   "outputs": [
    {
     "data": {
      "text/plain": [
       "sigmoid_act (generic function with 1 method)"
      ]
     },
     "metadata": {},
     "output_type": "display_data"
    }
   ],
   "source": [
    "function sigmoid_act(x)\n",
    "    return 1/(1+exp(-x))\n",
    "end"
   ]
  },
  {
   "cell_type": "markdown",
   "metadata": {},
   "source": [
    "#### Tanh"
   ]
  },
  {
   "cell_type": "code",
   "execution_count": 34,
   "metadata": {},
   "outputs": [
    {
     "name": "stderr",
     "output_type": "stream",
     "text": [
      "sys:1: UserWarning: No contour levels were found within the data range.\r\n",
      "sys:1: UserWarning: No contour levels were found within the data range.\r\n",
      "sys:1: UserWarning: No contour levels were found within the data range.\r\n",
      "sys:1: UserWarning: No contour levels were found within the data range.\r\n"
     ]
    },
    {
     "data": {
      "text/plain": [
       "tanh_act (generic function with 1 method)"
      ]
     },
     "metadata": {},
     "output_type": "display_data"
    }
   ],
   "source": [
    "function tanh_act(x)\n",
    "    return (2 * sigmoid_act(2*x)) - 1\n",
    "end"
   ]
  },
  {
   "cell_type": "markdown",
   "metadata": {},
   "source": [
    "### Swish"
   ]
  },
  {
   "cell_type": "code",
   "execution_count": 31,
   "metadata": {},
   "outputs": [
    {
     "data": {
      "text/plain": [
       "swish_act (generic function with 1 method)"
      ]
     },
     "metadata": {},
     "output_type": "display_data"
    }
   ],
   "source": [
    "function swish_act(x)\n",
    "    return x*sigmoid_act(x)\n",
    "end"
   ]
  },
  {
   "cell_type": "code",
   "execution_count": 50,
   "metadata": {},
   "outputs": [],
   "source": [
    "activation_functions = [relu_act, elu_act, leaky_relu_act, sigmoid_act, tanh_act, swish_act]\n",
    "activation_function_names = [\"relu\", \"elu\", \"leaky_relu\", \"sigmoid\", \"tanh\", \"swish\"]\n",
    "k = 4\n",
    "n = 200\n",
    "m = 500\n",
    "t = 50000\n",
    "save = true\n",
    "X, Y = get_X_Y(k,n)\n",
    "\n",
    "for (act_function, act_name) in zip(activation_functions, activation_function_names)\n",
    "    name = \"diagrams/dist_and_margings_\" * string(k) * \"_\" * string(n) * \"_\" * string(m) * \"_\" * string(t) * \"_\" * act_name\n",
    "    plot_dist_and_margins_given_X_Y(X, Y, k, n, m, t, name; save_flag=save, activation_function=act_function)\n",
    "    GC.gc()\n",
    "end"
   ]
  },
  {
   "cell_type": "markdown",
   "metadata": {},
   "source": [
    "### Experiment 5 - Training Loss and Activations"
   ]
  },
  {
   "cell_type": "code",
   "execution_count": null,
   "metadata": {},
   "outputs": [],
   "source": [
    "function plot_training_test_loss_activations(d, k, m, niter, stepsize, n_train, n_test, acts, act_names; both_layers=[true, false], save_flag=false)\n",
    "    X_train, Y_train = get_X_Y(k, n_train; d=d)\n",
    "    X_test, Y_test = get_X_Y(k, n_test; d=d)\n",
    "    loss_single_train = zeros(size(1:100:niter), length(acts))\n",
    "    loss_single_test = zeros(size(1:100:niter), length(acts))\n",
    "    loss_both_train = zeros(size(1:100:niter), length(acts))\n",
    "    loss_both_test = zeros(size(1:100:niter), length(acts))\n",
    "\n",
    "    PyPlot.clf()\n",
    "    # tight_layout()\n",
    "    fig = PyPlot.figure(\"activations_and_errors\", figsize=(10,10))\n",
    "\n",
    "    for i in 1:length(both_layers)\n",
    "        both_flag = both_layers[i]\n",
    "        \n",
    "        if both_flag\n",
    "            both_name = \"both\"\n",
    "        else\n",
    "            both_name = \"single\"\n",
    "        end\n",
    "\n",
    "        loss_train = zeros(size(1:100:niter), length(acts))\n",
    "        loss_test = zeros(size(1:100:niter), length(acts))\n",
    "        for act in acts\n",
    "            Ws, loss, margins, betas = twonet(X_train, Y_train, m, stepsize, niter; both=both_flag, activation_function=act)\n",
    "            for i in 1:length(1:100:niter)\n",
    "                t = (1:100:niter)[i]\n",
    "                loss_train[i] = calculate_loss(Ws, t, m, X_train, Y_train, n_train)\n",
    "                loss_test[i] = calculate_loss(Ws, t, m, X_test, Y_test, n_test)\n",
    "            end\n",
    "        end\n",
    "\n",
    "        subplot(2, 2, 2*i-1)\n",
    "        for i in 1:length(acts)\n",
    "            colour = \"C\"*string(i-1)\n",
    "            plot((1:100:niter), loss_train[:, :, :, i], linewidth=2, label=act_names[i], colour)   \n",
    "        end\n",
    "        axis(\"tight\")\n",
    "        PyPlot.title(\"Training Loss \" * both_name)\n",
    "        PyPlot.xlabel(L\"niter\", fontsize=10)\n",
    "        PyPlot.ylabel(\"Error\", fontsize=10)\n",
    "        PyPlot.legend(loc=\"upper center\")\n",
    "\n",
    "        subplot(2, 2, 2*i)\n",
    "        for i in 1:length(acts)\n",
    "            colour = \"C\"*string(i-1)\n",
    "            plot((1:100:niter), loss_test[:, :, :, i], linewidth=2, label=act_names[i], colour)   \n",
    "        end\n",
    "        axis(\"tight\")\n",
    "        PyPlot.title(\"Test Loss \" * both_name)\n",
    "        PyPlot.xlabel(L\"niter\", fontsize=10)\n",
    "        PyPlot.ylabel(\"Error\", fontsize=10)\n",
    "        PyPlot.legend(loc=\"upper center\");\n",
    "\n",
    "    \n",
    "    PyPlot.suptitle(\"\", y=1.12)\n",
    "    if save_flag\n",
    "        save_name = \"activations_vs_error_\" * string(act_names) * \"_dkmniter\" * string(d) * string(k) * string(n) * string(niter)\n",
    "        savefig(\"diagrams/\" * save_name * \".pdf\", bbox_inches=\"tight\")\n",
    "    end"
   ]
  },
  {
   "cell_type": "code",
   "execution_count": null,
   "metadata": {},
   "outputs": [],
   "source": [
    "d = 4\n",
    "k = 4\n",
    "m = 500\n",
    "niter = 20000 \n",
    "stepsize = 0.5\n",
    "n_train = 500\n",
    "n_test = 100\n",
    "acts = [relu_act, elu_act, leaky_relu_act, sigmoid_act, tanh_act, swish_act]\n",
    "act_names = [\"relu\", \"elu\", \"leaky_relu\", \"sigmoid\", \"tanh\", \"swish\"]\n",
    "save_flag = false\n",
    "plot_training_test_loss_activations(d, k, m, niter, stepsize, n_train, n_test, acts, act_names; save_flag=save_flag)"
   ]
  }
 ],
 "metadata": {
  "kernelspec": {
   "display_name": "Julia 1.7.1",
   "language": "julia",
   "name": "julia-1.7"
  },
  "language_info": {
   "file_extension": ".jl",
   "mimetype": "application/julia",
   "name": "julia",
   "version": "1.7.1"
  }
 },
 "nbformat": 4,
 "nbformat_minor": 2
}
